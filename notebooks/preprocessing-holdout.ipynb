{
 "cells": [
  {
   "cell_type": "code",
   "execution_count": 1,
   "metadata": {},
   "outputs": [],
   "source": [
    "%load_ext autoreload\n",
    "%autoreload 2\n",
    "import pandas as pd\n",
    "import numpy as np\n",
    "import matplotlib.pyplot as plt\n",
    "import tensorflow as tf\n",
    "import missingno as msno\n",
    "%matplotlib inline\n",
    "plt.style.use('ggplot')\n",
    "import seaborn as sns\n",
    "from scipy import stats\n",
    "from nltk.corpus import stopwords\n",
    "from nltk.tokenize import RegexpTokenizer\n",
    "from nltk.tokenize import word_tokenize\n",
    "\n",
    "from sklearn.metrics.pairwise import linear_kernel\n",
    "from sklearn.preprocessing import scale\n",
    "from sklearn.decomposition import PCA\n",
    "import collections\n",
    "import re\n",
    "import emoji"
   ]
  },
  {
   "cell_type": "code",
   "execution_count": 2,
   "metadata": {},
   "outputs": [],
   "source": [
    "from preprocessing import *\n",
    "from statistics import *\n",
    "from list_to_corpus import *\n",
    "from url_handler import *\n",
    "from emoji_handler import *\n",
    "from helper import *"
   ]
  },
  {
   "cell_type": "code",
   "execution_count": 3,
   "metadata": {},
   "outputs": [
    {
     "data": {
      "text/plain": [
       "<function list_to_corpus.list_corpus(lst)>"
      ]
     },
     "execution_count": 3,
     "metadata": {},
     "output_type": "execute_result"
    }
   ],
   "source": [
    "list_corpus"
   ]
  },
  {
   "cell_type": "code",
   "execution_count": 4,
   "metadata": {},
   "outputs": [],
   "source": [
    "data=Preprocessing('../data/train.csv', '../data/test.csv')"
   ]
  },
  {
   "cell_type": "code",
   "execution_count": 5,
   "metadata": {},
   "outputs": [],
   "source": [
    "train_df_1, train_df_0, train_df, test_df = data.train_df_dis, data.train_df_nodis, data.train_df, data.test_df"
   ]
  },
  {
   "cell_type": "code",
   "execution_count": 7,
   "metadata": {},
   "outputs": [],
   "source": [
    "test_df_keyword=test_df['keyword'].fillna('uns_keyword')\n",
    "test_df['modified_keyword'] = test_df_keyword\n",
    "test_df_loc=test_df['location'].fillna('uns_location')\n",
    "test_df['modified_location'] = test_df_loc\n",
    "test_df =test_df.drop(['location', 'keyword'], axis=1)"
   ]
  },
  {
   "cell_type": "code",
   "execution_count": 9,
   "metadata": {},
   "outputs": [
    {
     "name": "stdout",
     "output_type": "stream",
     "text": [
      "<class 'pandas.core.frame.DataFrame'>\n",
      "RangeIndex: 3263 entries, 0 to 3262\n",
      "Data columns (total 4 columns):\n",
      " #   Column             Non-Null Count  Dtype \n",
      "---  ------             --------------  ----- \n",
      " 0   id                 3263 non-null   int64 \n",
      " 1   text               3263 non-null   object\n",
      " 2   modified_keyword   3263 non-null   object\n",
      " 3   modified_location  3263 non-null   object\n",
      "dtypes: int64(1), object(3)\n",
      "memory usage: 102.1+ KB\n"
     ]
    }
   ],
   "source": [
    "test_df.info()"
   ]
  },
  {
   "cell_type": "code",
   "execution_count": 96,
   "metadata": {},
   "outputs": [],
   "source": [
    "import collections\n",
    "# collections.Counter(train_df[train_df[\"target\"] == 1][\"text\"].values[1])"
   ]
  },
  {
   "cell_type": "code",
   "execution_count": 10,
   "metadata": {},
   "outputs": [
    {
     "data": {
      "text/plain": [
       "222"
      ]
     },
     "execution_count": 10,
     "metadata": {},
     "output_type": "execute_result"
    }
   ],
   "source": [
    "len(collections.Counter(test_df.modified_keyword))"
   ]
  },
  {
   "cell_type": "code",
   "execution_count": 13,
   "metadata": {},
   "outputs": [
    {
     "name": "stdout",
     "output_type": "stream",
     "text": [
      "CPU times: user 14.4 s, sys: 426 ms, total: 14.8 s\n",
      "Wall time: 19.6 s\n"
     ]
    }
   ],
   "source": [
    "%%time\n",
    "corpus = list_corpus(test_df['text'])"
   ]
  },
  {
   "cell_type": "code",
   "execution_count": 14,
   "metadata": {},
   "outputs": [],
   "source": [
    "word = [doc.split() for doc in corpus]"
   ]
  },
  {
   "cell_type": "code",
   "execution_count": 15,
   "metadata": {},
   "outputs": [],
   "source": [
    "lst = []\n",
    "for item in word:\n",
    "    for i in item:\n",
    "        lst.append(i)"
   ]
  },
  {
   "cell_type": "code",
   "execution_count": 16,
   "metadata": {},
   "outputs": [
    {
     "data": {
      "text/plain": [
       "13623"
      ]
     },
     "execution_count": 16,
     "metadata": {},
     "output_type": "execute_result"
    }
   ],
   "source": [
    "len(collections.Counter(lst))"
   ]
  },
  {
   "cell_type": "code",
   "execution_count": 17,
   "metadata": {},
   "outputs": [
    {
     "data": {
      "text/plain": [
       "[('http', 3906),\n",
       " ('...', 344),\n",
       " ('like', 323),\n",
       " ('amp', 284),\n",
       " (\"'s\", 276),\n",
       " ('fire', 273),\n",
       " ('get', 248),\n",
       " (\"n't\", 232),\n",
       " ('via', 210),\n",
       " ('https', 206)]"
      ]
     },
     "execution_count": 17,
     "metadata": {},
     "output_type": "execute_result"
    }
   ],
   "source": [
    "collections.Counter(lst).most_common(10)"
   ]
  },
  {
   "cell_type": "code",
   "execution_count": 145,
   "metadata": {},
   "outputs": [
    {
     "data": {
      "text/plain": [
       "(7613, 10000)"
      ]
     },
     "execution_count": 145,
     "metadata": {},
     "output_type": "execute_result"
    }
   ],
   "source": [
    "vectorizer = TfidfVectorizer(max_features=10000)\n",
    "X = vectorizer.fit_transform(corpus)\n",
    "X = (X.todense())\n",
    "X.shape"
   ]
  },
  {
   "cell_type": "code",
   "execution_count": 146,
   "metadata": {},
   "outputs": [
    {
     "data": {
      "text/plain": [
       "matrix([[0.        , 0.        , 0.        , ..., 0.        , 0.        ,\n",
       "         0.        ],\n",
       "        [0.        , 0.        , 0.        , ..., 0.        , 0.        ,\n",
       "         0.        ],\n",
       "        [0.        , 0.        , 0.        , ..., 0.        , 0.        ,\n",
       "         0.        ],\n",
       "        ...,\n",
       "        [0.        , 0.        , 0.35669906, ..., 0.        , 0.        ,\n",
       "         0.        ],\n",
       "        [0.        , 0.        , 0.        , ..., 0.        , 0.        ,\n",
       "         0.        ],\n",
       "        [0.        , 0.        , 0.        , ..., 0.        , 0.        ,\n",
       "         0.        ]])"
      ]
     },
     "execution_count": 146,
     "metadata": {},
     "output_type": "execute_result"
    }
   ],
   "source": [
    "X"
   ]
  },
  {
   "cell_type": "code",
   "execution_count": 18,
   "metadata": {},
   "outputs": [
    {
     "data": {
      "text/plain": [
       "'BROOO HE JUST GOT ANNIHILATED https://t.co/UR7QkqG1wf'"
      ]
     },
     "execution_count": 18,
     "metadata": {},
     "output_type": "execute_result"
    }
   ],
   "source": [
    "test_df['text'].values[100]"
   ]
  },
  {
   "cell_type": "code",
   "execution_count": 200,
   "metadata": {},
   "outputs": [],
   "source": [
    "# print(vectorizer.get_feature_names())"
   ]
  },
  {
   "cell_type": "code",
   "execution_count": 19,
   "metadata": {},
   "outputs": [],
   "source": [
    "# def urls(sent):\n",
    "#     return re.findall('http[s]?://(?:[a-zA-Z]|[0-9]|[$-_@.&+]|[!*\\(\\),]|(?:%[0-9a-fA-F][0-9a-fA-F]))+',sent)\n",
    "# def url_counts(sent):\n",
    "#     return len(re.findall('http[s]?://(?:[a-zA-Z]|[0-9]|[$-_@.&+]|[!*\\(\\),]|(?:%[0-9a-fA-F][0-9a-fA-F]))+',sent))\n",
    "def remove_urls(sent):\n",
    "    return re.sub('http[s]?://(?:[a-zA-Z]|[0-9]|[$-_@.&+]|[!*\\(\\),]|(?:%[0-9a-fA-F][0-9a-fA-F]))+','',sent)"
   ]
  },
  {
   "cell_type": "code",
   "execution_count": 20,
   "metadata": {},
   "outputs": [
    {
     "name": "stdout",
     "output_type": "stream",
     "text": [
      ".@NorwayMFA #Bahrain police had previously died in a road accident they were not killed by explosion \n"
     ]
    }
   ],
   "source": [
    "s ='Working on Nlp. So much fun  - https://www.helloworld.com, http://www.worldhello.com'\n",
    "# print(urls(s))\n",
    "# print(url_counts(s))\n",
    "print(remove_urls(train_df['text'].values[100]))"
   ]
  },
  {
   "cell_type": "code",
   "execution_count": 21,
   "metadata": {},
   "outputs": [
    {
     "data": {
      "text/plain": [
       "'.@NorwayMFA #Bahrain police had previously died in a road accident they were not killed by explosion https://t.co/gFJfgTodad'"
      ]
     },
     "execution_count": 21,
     "metadata": {},
     "output_type": "execute_result"
    }
   ],
   "source": [
    "train_df['text'].values[100]"
   ]
  },
  {
   "cell_type": "code",
   "execution_count": 22,
   "metadata": {},
   "outputs": [
    {
     "name": "stdout",
     "output_type": "stream",
     "text": [
      "['https://www.helloworld.com, https://www.worldhello.com']\n",
      "1\n",
      "Working on Nlp. So much fun  -  \n"
     ]
    }
   ],
   "source": [
    "s ='Working on Nlp. So much fun  - https://www.helloworld.com, https://www.worldhello.com'\n",
    "print(urls(s))\n",
    "print(url_counts(s))\n",
    "print(remove_urls(remove_urls(s)))"
   ]
  },
  {
   "cell_type": "code",
   "execution_count": 23,
   "metadata": {},
   "outputs": [],
   "source": [
    "test_df['url_count'] = test_df.text.apply(url_counts)\n",
    "test_df['urls'] = test_df.text.apply(urls)"
   ]
  },
  {
   "cell_type": "code",
   "execution_count": 24,
   "metadata": {},
   "outputs": [],
   "source": [
    "test_df['text'] = pd.Series([remove_urls(str_) for str_ in train_df.text])"
   ]
  },
  {
   "cell_type": "code",
   "execution_count": 25,
   "metadata": {},
   "outputs": [],
   "source": [
    "test_df['urls']=test_df['urls'].apply(list_element)"
   ]
  },
  {
   "cell_type": "code",
   "execution_count": 26,
   "metadata": {},
   "outputs": [],
   "source": [
    "test_df['urls'] = test_df['urls'].fillna('uns_url')"
   ]
  },
  {
   "cell_type": "code",
   "execution_count": 27,
   "metadata": {},
   "outputs": [
    {
     "data": {
      "text/html": [
       "<div>\n",
       "<style scoped>\n",
       "    .dataframe tbody tr th:only-of-type {\n",
       "        vertical-align: middle;\n",
       "    }\n",
       "\n",
       "    .dataframe tbody tr th {\n",
       "        vertical-align: top;\n",
       "    }\n",
       "\n",
       "    .dataframe thead th {\n",
       "        text-align: right;\n",
       "    }\n",
       "</style>\n",
       "<table border=\"1\" class=\"dataframe\">\n",
       "  <thead>\n",
       "    <tr style=\"text-align: right;\">\n",
       "      <th></th>\n",
       "      <th>id</th>\n",
       "      <th>text</th>\n",
       "      <th>modified_keyword</th>\n",
       "      <th>modified_location</th>\n",
       "      <th>url_count</th>\n",
       "      <th>urls</th>\n",
       "    </tr>\n",
       "  </thead>\n",
       "  <tbody>\n",
       "    <tr>\n",
       "      <th>0</th>\n",
       "      <td>0</td>\n",
       "      <td>Our Deeds are the Reason of this #earthquake M...</td>\n",
       "      <td>uns_keyword</td>\n",
       "      <td>uns_location</td>\n",
       "      <td>0</td>\n",
       "      <td>uns_url</td>\n",
       "    </tr>\n",
       "    <tr>\n",
       "      <th>1</th>\n",
       "      <td>2</td>\n",
       "      <td>Forest fire near La Ronge Sask. Canada</td>\n",
       "      <td>uns_keyword</td>\n",
       "      <td>uns_location</td>\n",
       "      <td>0</td>\n",
       "      <td>uns_url</td>\n",
       "    </tr>\n",
       "    <tr>\n",
       "      <th>2</th>\n",
       "      <td>3</td>\n",
       "      <td>All residents asked to 'shelter in place' are ...</td>\n",
       "      <td>uns_keyword</td>\n",
       "      <td>uns_location</td>\n",
       "      <td>0</td>\n",
       "      <td>uns_url</td>\n",
       "    </tr>\n",
       "    <tr>\n",
       "      <th>3</th>\n",
       "      <td>9</td>\n",
       "      <td>13,000 people receive #wildfires evacuation or...</td>\n",
       "      <td>uns_keyword</td>\n",
       "      <td>uns_location</td>\n",
       "      <td>0</td>\n",
       "      <td>uns_url</td>\n",
       "    </tr>\n",
       "    <tr>\n",
       "      <th>4</th>\n",
       "      <td>11</td>\n",
       "      <td>Just got sent this photo from Ruby #Alaska as ...</td>\n",
       "      <td>uns_keyword</td>\n",
       "      <td>uns_location</td>\n",
       "      <td>0</td>\n",
       "      <td>uns_url</td>\n",
       "    </tr>\n",
       "  </tbody>\n",
       "</table>\n",
       "</div>"
      ],
      "text/plain": [
       "   id                                               text modified_keyword  \\\n",
       "0   0  Our Deeds are the Reason of this #earthquake M...      uns_keyword   \n",
       "1   2             Forest fire near La Ronge Sask. Canada      uns_keyword   \n",
       "2   3  All residents asked to 'shelter in place' are ...      uns_keyword   \n",
       "3   9  13,000 people receive #wildfires evacuation or...      uns_keyword   \n",
       "4  11  Just got sent this photo from Ruby #Alaska as ...      uns_keyword   \n",
       "\n",
       "  modified_location  url_count     urls  \n",
       "0      uns_location          0  uns_url  \n",
       "1      uns_location          0  uns_url  \n",
       "2      uns_location          0  uns_url  \n",
       "3      uns_location          0  uns_url  \n",
       "4      uns_location          0  uns_url  "
      ]
     },
     "execution_count": 27,
     "metadata": {},
     "output_type": "execute_result"
    }
   ],
   "source": [
    "test_df.head()"
   ]
  },
  {
   "cell_type": "code",
   "execution_count": 28,
   "metadata": {},
   "outputs": [
    {
     "data": {
      "text/html": [
       "<div>\n",
       "<style scoped>\n",
       "    .dataframe tbody tr th:only-of-type {\n",
       "        vertical-align: middle;\n",
       "    }\n",
       "\n",
       "    .dataframe tbody tr th {\n",
       "        vertical-align: top;\n",
       "    }\n",
       "\n",
       "    .dataframe thead th {\n",
       "        text-align: right;\n",
       "    }\n",
       "</style>\n",
       "<table border=\"1\" class=\"dataframe\">\n",
       "  <thead>\n",
       "    <tr style=\"text-align: right;\">\n",
       "      <th></th>\n",
       "      <th>id</th>\n",
       "      <th>text</th>\n",
       "      <th>modified_keyword</th>\n",
       "      <th>modified_location</th>\n",
       "      <th>url_count</th>\n",
       "      <th>urls</th>\n",
       "    </tr>\n",
       "  </thead>\n",
       "  <tbody>\n",
       "    <tr>\n",
       "      <th>0</th>\n",
       "      <td>0</td>\n",
       "      <td>Our Deeds are the Reason of this #earthquake M...</td>\n",
       "      <td>uns_keyword</td>\n",
       "      <td>uns_location</td>\n",
       "      <td>0</td>\n",
       "      <td>uns_url</td>\n",
       "    </tr>\n",
       "    <tr>\n",
       "      <th>1</th>\n",
       "      <td>2</td>\n",
       "      <td>Forest fire near La Ronge Sask. Canada</td>\n",
       "      <td>uns_keyword</td>\n",
       "      <td>uns_location</td>\n",
       "      <td>0</td>\n",
       "      <td>uns_url</td>\n",
       "    </tr>\n",
       "    <tr>\n",
       "      <th>2</th>\n",
       "      <td>3</td>\n",
       "      <td>All residents asked to 'shelter in place' are ...</td>\n",
       "      <td>uns_keyword</td>\n",
       "      <td>uns_location</td>\n",
       "      <td>0</td>\n",
       "      <td>uns_url</td>\n",
       "    </tr>\n",
       "    <tr>\n",
       "      <th>3</th>\n",
       "      <td>9</td>\n",
       "      <td>13,000 people receive #wildfires evacuation or...</td>\n",
       "      <td>uns_keyword</td>\n",
       "      <td>uns_location</td>\n",
       "      <td>0</td>\n",
       "      <td>uns_url</td>\n",
       "    </tr>\n",
       "    <tr>\n",
       "      <th>4</th>\n",
       "      <td>11</td>\n",
       "      <td>Just got sent this photo from Ruby #Alaska as ...</td>\n",
       "      <td>uns_keyword</td>\n",
       "      <td>uns_location</td>\n",
       "      <td>0</td>\n",
       "      <td>uns_url</td>\n",
       "    </tr>\n",
       "  </tbody>\n",
       "</table>\n",
       "</div>"
      ],
      "text/plain": [
       "   id                                               text modified_keyword  \\\n",
       "0   0  Our Deeds are the Reason of this #earthquake M...      uns_keyword   \n",
       "1   2             Forest fire near La Ronge Sask. Canada      uns_keyword   \n",
       "2   3  All residents asked to 'shelter in place' are ...      uns_keyword   \n",
       "3   9  13,000 people receive #wildfires evacuation or...      uns_keyword   \n",
       "4  11  Just got sent this photo from Ruby #Alaska as ...      uns_keyword   \n",
       "\n",
       "  modified_location  url_count     urls  \n",
       "0      uns_location          0  uns_url  \n",
       "1      uns_location          0  uns_url  \n",
       "2      uns_location          0  uns_url  \n",
       "3      uns_location          0  uns_url  \n",
       "4      uns_location          0  uns_url  "
      ]
     },
     "execution_count": 28,
     "metadata": {},
     "output_type": "execute_result"
    }
   ],
   "source": [
    "# train_df = train_df.drop(['Char_length', 'word_count'], axis=1)\n",
    "test_df.head()"
   ]
  },
  {
   "cell_type": "code",
   "execution_count": 29,
   "metadata": {},
   "outputs": [
    {
     "name": "stdout",
     "output_type": "stream",
     "text": [
      "emoji_text :  grinning_face \n",
      "Count of emojis :  1\n",
      "Placing text in place of emojis : ->    Working on Nlp. So much fun grinning_face\n"
     ]
    }
   ],
   "source": [
    "s = \"Working on Nlp. So much fun 😀\"\n",
    "print(\"emoji_text : \", *emoji_extraction(s),\"\\nCount of emojis : \",emoji_count(s))\n",
    "\n",
    "print(\"Placing text in place of emojis : ->   \",emoji_to_text(s))"
   ]
  },
  {
   "cell_type": "code",
   "execution_count": 30,
   "metadata": {},
   "outputs": [
    {
     "name": "stdout",
     "output_type": "stream",
     "text": [
      "CPU times: user 4.73 s, sys: 127 ms, total: 4.86 s\n",
      "Wall time: 6.65 s\n"
     ]
    }
   ],
   "source": [
    "%%time\n",
    "test_df['emoji_count'] = test_df.text.apply(emoji_count)\n",
    "train_df['emojis'] = test_df.text.apply(emoji_extraction)"
   ]
  },
  {
   "cell_type": "code",
   "execution_count": 31,
   "metadata": {},
   "outputs": [
    {
     "data": {
      "text/html": [
       "<div>\n",
       "<style scoped>\n",
       "    .dataframe tbody tr th:only-of-type {\n",
       "        vertical-align: middle;\n",
       "    }\n",
       "\n",
       "    .dataframe tbody tr th {\n",
       "        vertical-align: top;\n",
       "    }\n",
       "\n",
       "    .dataframe thead th {\n",
       "        text-align: right;\n",
       "    }\n",
       "</style>\n",
       "<table border=\"1\" class=\"dataframe\">\n",
       "  <thead>\n",
       "    <tr style=\"text-align: right;\">\n",
       "      <th></th>\n",
       "      <th>id</th>\n",
       "      <th>keyword</th>\n",
       "      <th>location</th>\n",
       "      <th>text</th>\n",
       "      <th>target</th>\n",
       "      <th>emojis</th>\n",
       "    </tr>\n",
       "  </thead>\n",
       "  <tbody>\n",
       "    <tr>\n",
       "      <th>0</th>\n",
       "      <td>1</td>\n",
       "      <td>NaN</td>\n",
       "      <td>NaN</td>\n",
       "      <td>Our Deeds are the Reason of this #earthquake M...</td>\n",
       "      <td>1</td>\n",
       "      <td>[]</td>\n",
       "    </tr>\n",
       "    <tr>\n",
       "      <th>1</th>\n",
       "      <td>4</td>\n",
       "      <td>NaN</td>\n",
       "      <td>NaN</td>\n",
       "      <td>Forest fire near La Ronge Sask. Canada</td>\n",
       "      <td>1</td>\n",
       "      <td>[]</td>\n",
       "    </tr>\n",
       "    <tr>\n",
       "      <th>2</th>\n",
       "      <td>5</td>\n",
       "      <td>NaN</td>\n",
       "      <td>NaN</td>\n",
       "      <td>All residents asked to 'shelter in place' are ...</td>\n",
       "      <td>1</td>\n",
       "      <td>[]</td>\n",
       "    </tr>\n",
       "    <tr>\n",
       "      <th>3</th>\n",
       "      <td>6</td>\n",
       "      <td>NaN</td>\n",
       "      <td>NaN</td>\n",
       "      <td>13,000 people receive #wildfires evacuation or...</td>\n",
       "      <td>1</td>\n",
       "      <td>[]</td>\n",
       "    </tr>\n",
       "    <tr>\n",
       "      <th>4</th>\n",
       "      <td>7</td>\n",
       "      <td>NaN</td>\n",
       "      <td>NaN</td>\n",
       "      <td>Just got sent this photo from Ruby #Alaska as ...</td>\n",
       "      <td>1</td>\n",
       "      <td>[]</td>\n",
       "    </tr>\n",
       "    <tr>\n",
       "      <th>...</th>\n",
       "      <td>...</td>\n",
       "      <td>...</td>\n",
       "      <td>...</td>\n",
       "      <td>...</td>\n",
       "      <td>...</td>\n",
       "      <td>...</td>\n",
       "    </tr>\n",
       "    <tr>\n",
       "      <th>7608</th>\n",
       "      <td>10869</td>\n",
       "      <td>NaN</td>\n",
       "      <td>NaN</td>\n",
       "      <td>Two giant cranes holding a bridge collapse int...</td>\n",
       "      <td>1</td>\n",
       "      <td>NaN</td>\n",
       "    </tr>\n",
       "    <tr>\n",
       "      <th>7609</th>\n",
       "      <td>10870</td>\n",
       "      <td>NaN</td>\n",
       "      <td>NaN</td>\n",
       "      <td>@aria_ahrary @TheTawniest The out of control w...</td>\n",
       "      <td>1</td>\n",
       "      <td>NaN</td>\n",
       "    </tr>\n",
       "    <tr>\n",
       "      <th>7610</th>\n",
       "      <td>10871</td>\n",
       "      <td>NaN</td>\n",
       "      <td>NaN</td>\n",
       "      <td>M1.94 [01:04 UTC]?5km S of Volcano Hawaii. htt...</td>\n",
       "      <td>1</td>\n",
       "      <td>NaN</td>\n",
       "    </tr>\n",
       "    <tr>\n",
       "      <th>7611</th>\n",
       "      <td>10872</td>\n",
       "      <td>NaN</td>\n",
       "      <td>NaN</td>\n",
       "      <td>Police investigating after an e-bike collided ...</td>\n",
       "      <td>1</td>\n",
       "      <td>NaN</td>\n",
       "    </tr>\n",
       "    <tr>\n",
       "      <th>7612</th>\n",
       "      <td>10873</td>\n",
       "      <td>NaN</td>\n",
       "      <td>NaN</td>\n",
       "      <td>The Latest: More Homes Razed by Northern Calif...</td>\n",
       "      <td>1</td>\n",
       "      <td>NaN</td>\n",
       "    </tr>\n",
       "  </tbody>\n",
       "</table>\n",
       "<p>7613 rows × 6 columns</p>\n",
       "</div>"
      ],
      "text/plain": [
       "         id keyword location  \\\n",
       "0         1     NaN      NaN   \n",
       "1         4     NaN      NaN   \n",
       "2         5     NaN      NaN   \n",
       "3         6     NaN      NaN   \n",
       "4         7     NaN      NaN   \n",
       "...     ...     ...      ...   \n",
       "7608  10869     NaN      NaN   \n",
       "7609  10870     NaN      NaN   \n",
       "7610  10871     NaN      NaN   \n",
       "7611  10872     NaN      NaN   \n",
       "7612  10873     NaN      NaN   \n",
       "\n",
       "                                                   text  target emojis  \n",
       "0     Our Deeds are the Reason of this #earthquake M...       1     []  \n",
       "1                Forest fire near La Ronge Sask. Canada       1     []  \n",
       "2     All residents asked to 'shelter in place' are ...       1     []  \n",
       "3     13,000 people receive #wildfires evacuation or...       1     []  \n",
       "4     Just got sent this photo from Ruby #Alaska as ...       1     []  \n",
       "...                                                 ...     ...    ...  \n",
       "7608  Two giant cranes holding a bridge collapse int...       1    NaN  \n",
       "7609  @aria_ahrary @TheTawniest The out of control w...       1    NaN  \n",
       "7610  M1.94 [01:04 UTC]?5km S of Volcano Hawaii. htt...       1    NaN  \n",
       "7611  Police investigating after an e-bike collided ...       1    NaN  \n",
       "7612  The Latest: More Homes Razed by Northern Calif...       1    NaN  \n",
       "\n",
       "[7613 rows x 6 columns]"
      ]
     },
     "execution_count": 31,
     "metadata": {},
     "output_type": "execute_result"
    }
   ],
   "source": [
    "train_df"
   ]
  },
  {
   "cell_type": "code",
   "execution_count": 32,
   "metadata": {},
   "outputs": [
    {
     "name": "stdout",
     "output_type": "stream",
     "text": [
      "CPU times: user 2.28 s, sys: 68.3 ms, total: 2.35 s\n",
      "Wall time: 3.57 s\n"
     ]
    }
   ],
   "source": [
    "%%time\n",
    "test_df['text'] = test_df['text'].apply(emoji_to_text)"
   ]
  },
  {
   "cell_type": "code",
   "execution_count": 33,
   "metadata": {},
   "outputs": [],
   "source": [
    "test_df['text'] = test_df.text.apply(remove_urls)"
   ]
  },
  {
   "cell_type": "code",
   "execution_count": 36,
   "metadata": {},
   "outputs": [
    {
     "data": {
      "text/html": [
       "<div>\n",
       "<style scoped>\n",
       "    .dataframe tbody tr th:only-of-type {\n",
       "        vertical-align: middle;\n",
       "    }\n",
       "\n",
       "    .dataframe tbody tr th {\n",
       "        vertical-align: top;\n",
       "    }\n",
       "\n",
       "    .dataframe thead th {\n",
       "        text-align: right;\n",
       "    }\n",
       "</style>\n",
       "<table border=\"1\" class=\"dataframe\">\n",
       "  <thead>\n",
       "    <tr style=\"text-align: right;\">\n",
       "      <th></th>\n",
       "      <th>id</th>\n",
       "      <th>text</th>\n",
       "      <th>modified_keyword</th>\n",
       "      <th>modified_location</th>\n",
       "      <th>url_count</th>\n",
       "      <th>urls</th>\n",
       "      <th>emoji_count</th>\n",
       "    </tr>\n",
       "  </thead>\n",
       "  <tbody>\n",
       "    <tr>\n",
       "      <th>0</th>\n",
       "      <td>0</td>\n",
       "      <td>Our Deeds are the Reason of this #earthquake M...</td>\n",
       "      <td>uns_keyword</td>\n",
       "      <td>uns_location</td>\n",
       "      <td>0</td>\n",
       "      <td>uns_url</td>\n",
       "      <td>0</td>\n",
       "    </tr>\n",
       "    <tr>\n",
       "      <th>1</th>\n",
       "      <td>2</td>\n",
       "      <td>Forest fire near La Ronge Sask. Canada</td>\n",
       "      <td>uns_keyword</td>\n",
       "      <td>uns_location</td>\n",
       "      <td>0</td>\n",
       "      <td>uns_url</td>\n",
       "      <td>0</td>\n",
       "    </tr>\n",
       "    <tr>\n",
       "      <th>2</th>\n",
       "      <td>3</td>\n",
       "      <td>All residents asked to 'shelter in place' are ...</td>\n",
       "      <td>uns_keyword</td>\n",
       "      <td>uns_location</td>\n",
       "      <td>0</td>\n",
       "      <td>uns_url</td>\n",
       "      <td>0</td>\n",
       "    </tr>\n",
       "    <tr>\n",
       "      <th>3</th>\n",
       "      <td>9</td>\n",
       "      <td>13,000 people receive #wildfires evacuation or...</td>\n",
       "      <td>uns_keyword</td>\n",
       "      <td>uns_location</td>\n",
       "      <td>0</td>\n",
       "      <td>uns_url</td>\n",
       "      <td>0</td>\n",
       "    </tr>\n",
       "    <tr>\n",
       "      <th>4</th>\n",
       "      <td>11</td>\n",
       "      <td>Just got sent this photo from Ruby #Alaska as ...</td>\n",
       "      <td>uns_keyword</td>\n",
       "      <td>uns_location</td>\n",
       "      <td>0</td>\n",
       "      <td>uns_url</td>\n",
       "      <td>0</td>\n",
       "    </tr>\n",
       "  </tbody>\n",
       "</table>\n",
       "</div>"
      ],
      "text/plain": [
       "   id                                               text modified_keyword  \\\n",
       "0   0  Our Deeds are the Reason of this #earthquake M...      uns_keyword   \n",
       "1   2             Forest fire near La Ronge Sask. Canada      uns_keyword   \n",
       "2   3  All residents asked to 'shelter in place' are ...      uns_keyword   \n",
       "3   9  13,000 people receive #wildfires evacuation or...      uns_keyword   \n",
       "4  11  Just got sent this photo from Ruby #Alaska as ...      uns_keyword   \n",
       "\n",
       "  modified_location  url_count     urls  emoji_count  \n",
       "0      uns_location          0  uns_url            0  \n",
       "1      uns_location          0  uns_url            0  \n",
       "2      uns_location          0  uns_url            0  \n",
       "3      uns_location          0  uns_url            0  \n",
       "4      uns_location          0  uns_url            0  "
      ]
     },
     "execution_count": 36,
     "metadata": {},
     "output_type": "execute_result"
    }
   ],
   "source": [
    "test_df.head()"
   ]
  },
  {
   "cell_type": "code",
   "execution_count": 37,
   "metadata": {},
   "outputs": [],
   "source": [
    "corpus = list_corpus(test_df['text'])\n",
    "word = [doc.split() for doc in corpus]\n",
    "lst = []\n",
    "for item in word:\n",
    "    for i in item:\n",
    "        lst.append(i)"
   ]
  },
  {
   "cell_type": "code",
   "execution_count": 38,
   "metadata": {},
   "outputs": [
    {
     "data": {
      "text/plain": [
       "13166"
      ]
     },
     "execution_count": 38,
     "metadata": {},
     "output_type": "execute_result"
    }
   ],
   "source": [
    "len(collections.Counter(lst))"
   ]
  },
  {
   "cell_type": "code",
   "execution_count": 40,
   "metadata": {},
   "outputs": [
    {
     "data": {
      "text/plain": [
       "[(\"'s\", 326),\n",
       " ('like', 320),\n",
       " ('amp', 302),\n",
       " ('...', 284),\n",
       " (\"n't\", 266),\n",
       " ('get', 251),\n",
       " ('via', 216),\n",
       " (\"'m\", 208),\n",
       " ('fire', 196),\n",
       " ('new', 184),\n",
       " ('one', 183),\n",
       " ('bomb', 182),\n",
       " ('crash', 170),\n",
       " ('burn', 166),\n",
       " ('2', 166),\n",
       " ('bag', 149),\n",
       " ('derail', 144),\n",
       " ('time', 141),\n",
       " ('train', 141),\n",
       " ('attack', 138),\n",
       " ('emerg', 136),\n",
       " ('two', 135),\n",
       " ('build', 134),\n",
       " ('still', 132),\n",
       " ('emergency', 130),\n",
       " ('drown', 130),\n",
       " ('go', 128),\n",
       " ('death', 127),\n",
       " ('man', 126),\n",
       " ('know', 126),\n",
       " ('video', 119),\n",
       " ('got', 116),\n",
       " ('destroy', 116),\n",
       " ('would', 114),\n",
       " ('back', 114),\n",
       " ('news', 114),\n",
       " ('bodi', 113),\n",
       " (\"'re\", 112),\n",
       " ('body', 112),\n",
       " ('burning', 112),\n",
       " ('us', 110),\n",
       " ('day', 110),\n",
       " ('car', 109),\n",
       " ('collaps', 107),\n",
       " ('buildings', 106),\n",
       " ('crush', 105),\n",
       " ('hiroshima', 104),\n",
       " ('ca', 102),\n",
       " ('today', 102),\n",
       " ('love', 101),\n",
       " ('dead', 100),\n",
       " ('see', 99),\n",
       " ('year', 96),\n",
       " ('say', 96),\n",
       " ('full', 94),\n",
       " ('look', 93),\n",
       " ('want', 93),\n",
       " ('cross', 93),\n",
       " ('peopl', 91),\n",
       " ('plan', 91),\n",
       " ('people', 90),\n",
       " ('rt', 89),\n",
       " ('bioterror', 89),\n",
       " ('watch', 87),\n",
       " ('war', 87),\n",
       " ('fall', 87),\n",
       " ('demolish', 87),\n",
       " ('life', 86),\n",
       " ('take', 85),\n",
       " ('come', 84),\n",
       " ('storm', 84),\n",
       " ('accid', 83),\n",
       " ('need', 82),\n",
       " ('live', 81),\n",
       " ('make', 81),\n",
       " ('work', 81),\n",
       " ('accident', 81),\n",
       " ('could', 80),\n",
       " ('japan', 80),\n",
       " ('last', 79),\n",
       " ('let', 79),\n",
       " ('u', 78),\n",
       " ('kill', 77),\n",
       " ('first', 76),\n",
       " ('think', 76),\n",
       " ('blood', 74),\n",
       " ('curfew', 74),\n",
       " ('found', 72),\n",
       " ('dust', 72),\n",
       " ('set', 71),\n",
       " ('cliff', 71),\n",
       " ('collid', 71),\n",
       " ('right', 70),\n",
       " ('blaze', 70),\n",
       " ('danger', 70),\n",
       " ('drought', 70),\n",
       " ('home', 69),\n",
       " ('read', 68),\n",
       " ('air', 68),\n",
       " ('fedex', 68)]"
      ]
     },
     "execution_count": 40,
     "metadata": {},
     "output_type": "execute_result"
    }
   ],
   "source": [
    "collections.Counter(lst).most_common(100)"
   ]
  },
  {
   "cell_type": "code",
   "execution_count": 44,
   "metadata": {},
   "outputs": [
    {
     "data": {
      "text/plain": [
       "array(['Our Deeds are the Reason of this #earthquake May ALLAH Forgive us all',\n",
       "       'Forest fire near La Ronge Sask. Canada',\n",
       "       \"All residents asked to 'shelter in place' are being notified by officers. No other evacuation or shelter in place orders are expected\",\n",
       "       ...,\n",
       "       'Fully Engulfed Garage Fire: Propane Tanks Inside. Sunnymeade Dr.',\n",
       "       'He came to a land which was engulfed in tribal war and turned it into a land of peace i.e. Madinah. #ProphetMuhammad #islam',\n",
       "       '@suelinflower there is no words to describe the physical painthey ripped you apart while you screamed for dear lifeits like been engulfed'],\n",
       "      dtype=object)"
      ]
     },
     "execution_count": 44,
     "metadata": {},
     "output_type": "execute_result"
    }
   ],
   "source": [
    "test_df['text'].values"
   ]
  },
  {
   "cell_type": "code",
   "execution_count": 46,
   "metadata": {},
   "outputs": [
    {
     "name": "stdout",
     "output_type": "stream",
     "text": [
      "<class 'pandas.core.frame.DataFrame'>\n",
      "RangeIndex: 3263 entries, 0 to 3262\n",
      "Data columns (total 7 columns):\n",
      " #   Column             Non-Null Count  Dtype \n",
      "---  ------             --------------  ----- \n",
      " 0   id                 3263 non-null   int64 \n",
      " 1   text               3263 non-null   object\n",
      " 2   modified_keyword   3263 non-null   object\n",
      " 3   modified_location  3263 non-null   object\n",
      " 4   url_count          3263 non-null   int64 \n",
      " 5   urls               3263 non-null   object\n",
      " 6   emoji_count        3263 non-null   int64 \n",
      "dtypes: int64(3), object(4)\n",
      "memory usage: 178.6+ KB\n"
     ]
    }
   ],
   "source": [
    "test_df.info()"
   ]
  },
  {
   "cell_type": "code",
   "execution_count": 49,
   "metadata": {},
   "outputs": [
    {
     "data": {
      "text/html": [
       "<div>\n",
       "<style scoped>\n",
       "    .dataframe tbody tr th:only-of-type {\n",
       "        vertical-align: middle;\n",
       "    }\n",
       "\n",
       "    .dataframe tbody tr th {\n",
       "        vertical-align: top;\n",
       "    }\n",
       "\n",
       "    .dataframe thead th {\n",
       "        text-align: right;\n",
       "    }\n",
       "</style>\n",
       "<table border=\"1\" class=\"dataframe\">\n",
       "  <thead>\n",
       "    <tr style=\"text-align: right;\">\n",
       "      <th></th>\n",
       "      <th>id</th>\n",
       "      <th>text</th>\n",
       "      <th>modified_keyword</th>\n",
       "      <th>modified_location</th>\n",
       "      <th>url_count</th>\n",
       "      <th>urls</th>\n",
       "      <th>emoji_count</th>\n",
       "    </tr>\n",
       "  </thead>\n",
       "  <tbody>\n",
       "    <tr>\n",
       "      <th>0</th>\n",
       "      <td>0</td>\n",
       "      <td>Our Deeds are the Reason of this #earthquake M...</td>\n",
       "      <td>uns_keyword</td>\n",
       "      <td>uns_location</td>\n",
       "      <td>0</td>\n",
       "      <td>uns_url</td>\n",
       "      <td>0</td>\n",
       "    </tr>\n",
       "    <tr>\n",
       "      <th>1</th>\n",
       "      <td>2</td>\n",
       "      <td>Forest fire near La Ronge Sask. Canada</td>\n",
       "      <td>uns_keyword</td>\n",
       "      <td>uns_location</td>\n",
       "      <td>0</td>\n",
       "      <td>uns_url</td>\n",
       "      <td>0</td>\n",
       "    </tr>\n",
       "    <tr>\n",
       "      <th>2</th>\n",
       "      <td>3</td>\n",
       "      <td>All residents asked to 'shelter in place' are ...</td>\n",
       "      <td>uns_keyword</td>\n",
       "      <td>uns_location</td>\n",
       "      <td>0</td>\n",
       "      <td>uns_url</td>\n",
       "      <td>0</td>\n",
       "    </tr>\n",
       "    <tr>\n",
       "      <th>3</th>\n",
       "      <td>9</td>\n",
       "      <td>13,000 people receive #wildfires evacuation or...</td>\n",
       "      <td>uns_keyword</td>\n",
       "      <td>uns_location</td>\n",
       "      <td>0</td>\n",
       "      <td>uns_url</td>\n",
       "      <td>0</td>\n",
       "    </tr>\n",
       "    <tr>\n",
       "      <th>4</th>\n",
       "      <td>11</td>\n",
       "      <td>Just got sent this photo from Ruby #Alaska as ...</td>\n",
       "      <td>uns_keyword</td>\n",
       "      <td>uns_location</td>\n",
       "      <td>0</td>\n",
       "      <td>uns_url</td>\n",
       "      <td>0</td>\n",
       "    </tr>\n",
       "  </tbody>\n",
       "</table>\n",
       "</div>"
      ],
      "text/plain": [
       "   id                                               text modified_keyword  \\\n",
       "0   0  Our Deeds are the Reason of this #earthquake M...      uns_keyword   \n",
       "1   2             Forest fire near La Ronge Sask. Canada      uns_keyword   \n",
       "2   3  All residents asked to 'shelter in place' are ...      uns_keyword   \n",
       "3   9  13,000 people receive #wildfires evacuation or...      uns_keyword   \n",
       "4  11  Just got sent this photo from Ruby #Alaska as ...      uns_keyword   \n",
       "\n",
       "  modified_location  url_count     urls  emoji_count  \n",
       "0      uns_location          0  uns_url            0  \n",
       "1      uns_location          0  uns_url            0  \n",
       "2      uns_location          0  uns_url            0  \n",
       "3      uns_location          0  uns_url            0  \n",
       "4      uns_location          0  uns_url            0  "
      ]
     },
     "execution_count": 49,
     "metadata": {},
     "output_type": "execute_result"
    }
   ],
   "source": [
    "test_df.head(5)"
   ]
  },
  {
   "cell_type": "code",
   "execution_count": 50,
   "metadata": {},
   "outputs": [],
   "source": [
    "processed_test = test_df.copy()"
   ]
  },
  {
   "cell_type": "code",
   "execution_count": 51,
   "metadata": {},
   "outputs": [],
   "source": [
    "processed_test.to_csv('../data/processed_test.csv', index=False)"
   ]
  },
  {
   "cell_type": "code",
   "execution_count": 52,
   "metadata": {},
   "outputs": [
    {
     "data": {
      "text/html": [
       "<div>\n",
       "<style scoped>\n",
       "    .dataframe tbody tr th:only-of-type {\n",
       "        vertical-align: middle;\n",
       "    }\n",
       "\n",
       "    .dataframe tbody tr th {\n",
       "        vertical-align: top;\n",
       "    }\n",
       "\n",
       "    .dataframe thead th {\n",
       "        text-align: right;\n",
       "    }\n",
       "</style>\n",
       "<table border=\"1\" class=\"dataframe\">\n",
       "  <thead>\n",
       "    <tr style=\"text-align: right;\">\n",
       "      <th></th>\n",
       "      <th>id</th>\n",
       "      <th>text</th>\n",
       "      <th>modified_keyword</th>\n",
       "      <th>modified_location</th>\n",
       "      <th>url_count</th>\n",
       "      <th>urls</th>\n",
       "      <th>emoji_count</th>\n",
       "    </tr>\n",
       "  </thead>\n",
       "  <tbody>\n",
       "    <tr>\n",
       "      <th>0</th>\n",
       "      <td>0</td>\n",
       "      <td>Our Deeds are the Reason of this #earthquake M...</td>\n",
       "      <td>uns_keyword</td>\n",
       "      <td>uns_location</td>\n",
       "      <td>0</td>\n",
       "      <td>uns_url</td>\n",
       "      <td>0</td>\n",
       "    </tr>\n",
       "    <tr>\n",
       "      <th>1</th>\n",
       "      <td>2</td>\n",
       "      <td>Forest fire near La Ronge Sask. Canada</td>\n",
       "      <td>uns_keyword</td>\n",
       "      <td>uns_location</td>\n",
       "      <td>0</td>\n",
       "      <td>uns_url</td>\n",
       "      <td>0</td>\n",
       "    </tr>\n",
       "    <tr>\n",
       "      <th>2</th>\n",
       "      <td>3</td>\n",
       "      <td>All residents asked to 'shelter in place' are ...</td>\n",
       "      <td>uns_keyword</td>\n",
       "      <td>uns_location</td>\n",
       "      <td>0</td>\n",
       "      <td>uns_url</td>\n",
       "      <td>0</td>\n",
       "    </tr>\n",
       "    <tr>\n",
       "      <th>3</th>\n",
       "      <td>9</td>\n",
       "      <td>13,000 people receive #wildfires evacuation or...</td>\n",
       "      <td>uns_keyword</td>\n",
       "      <td>uns_location</td>\n",
       "      <td>0</td>\n",
       "      <td>uns_url</td>\n",
       "      <td>0</td>\n",
       "    </tr>\n",
       "    <tr>\n",
       "      <th>4</th>\n",
       "      <td>11</td>\n",
       "      <td>Just got sent this photo from Ruby #Alaska as ...</td>\n",
       "      <td>uns_keyword</td>\n",
       "      <td>uns_location</td>\n",
       "      <td>0</td>\n",
       "      <td>uns_url</td>\n",
       "      <td>0</td>\n",
       "    </tr>\n",
       "    <tr>\n",
       "      <th>...</th>\n",
       "      <td>...</td>\n",
       "      <td>...</td>\n",
       "      <td>...</td>\n",
       "      <td>...</td>\n",
       "      <td>...</td>\n",
       "      <td>...</td>\n",
       "      <td>...</td>\n",
       "    </tr>\n",
       "    <tr>\n",
       "      <th>3258</th>\n",
       "      <td>10861</td>\n",
       "      <td>Do you feel engulfed with low self-image? Take...</td>\n",
       "      <td>uns_keyword</td>\n",
       "      <td>uns_location</td>\n",
       "      <td>0</td>\n",
       "      <td>uns_url</td>\n",
       "      <td>0</td>\n",
       "    </tr>\n",
       "    <tr>\n",
       "      <th>3259</th>\n",
       "      <td>10865</td>\n",
       "      <td>Man is equally incapable of seeing the nothing...</td>\n",
       "      <td>uns_keyword</td>\n",
       "      <td>uns_location</td>\n",
       "      <td>0</td>\n",
       "      <td>uns_url</td>\n",
       "      <td>0</td>\n",
       "    </tr>\n",
       "    <tr>\n",
       "      <th>3260</th>\n",
       "      <td>10868</td>\n",
       "      <td>Fully Engulfed Garage Fire: Propane Tanks Insi...</td>\n",
       "      <td>uns_keyword</td>\n",
       "      <td>uns_location</td>\n",
       "      <td>1</td>\n",
       "      <td>http://t.co/UtbXLcBIuY</td>\n",
       "      <td>0</td>\n",
       "    </tr>\n",
       "    <tr>\n",
       "      <th>3261</th>\n",
       "      <td>10874</td>\n",
       "      <td>He came to a land which was engulfed in tribal...</td>\n",
       "      <td>uns_keyword</td>\n",
       "      <td>uns_location</td>\n",
       "      <td>1</td>\n",
       "      <td>http://t.co/3X6RBQJHn3</td>\n",
       "      <td>0</td>\n",
       "    </tr>\n",
       "    <tr>\n",
       "      <th>3262</th>\n",
       "      <td>10875</td>\n",
       "      <td>@suelinflower there is no words to describe th...</td>\n",
       "      <td>uns_keyword</td>\n",
       "      <td>uns_location</td>\n",
       "      <td>0</td>\n",
       "      <td>uns_url</td>\n",
       "      <td>0</td>\n",
       "    </tr>\n",
       "  </tbody>\n",
       "</table>\n",
       "<p>3263 rows × 7 columns</p>\n",
       "</div>"
      ],
      "text/plain": [
       "         id                                               text  \\\n",
       "0         0  Our Deeds are the Reason of this #earthquake M...   \n",
       "1         2             Forest fire near La Ronge Sask. Canada   \n",
       "2         3  All residents asked to 'shelter in place' are ...   \n",
       "3         9  13,000 people receive #wildfires evacuation or...   \n",
       "4        11  Just got sent this photo from Ruby #Alaska as ...   \n",
       "...     ...                                                ...   \n",
       "3258  10861  Do you feel engulfed with low self-image? Take...   \n",
       "3259  10865  Man is equally incapable of seeing the nothing...   \n",
       "3260  10868  Fully Engulfed Garage Fire: Propane Tanks Insi...   \n",
       "3261  10874  He came to a land which was engulfed in tribal...   \n",
       "3262  10875  @suelinflower there is no words to describe th...   \n",
       "\n",
       "     modified_keyword modified_location  url_count                    urls  \\\n",
       "0         uns_keyword      uns_location          0                 uns_url   \n",
       "1         uns_keyword      uns_location          0                 uns_url   \n",
       "2         uns_keyword      uns_location          0                 uns_url   \n",
       "3         uns_keyword      uns_location          0                 uns_url   \n",
       "4         uns_keyword      uns_location          0                 uns_url   \n",
       "...               ...               ...        ...                     ...   \n",
       "3258      uns_keyword      uns_location          0                 uns_url   \n",
       "3259      uns_keyword      uns_location          0                 uns_url   \n",
       "3260      uns_keyword      uns_location          1  http://t.co/UtbXLcBIuY   \n",
       "3261      uns_keyword      uns_location          1  http://t.co/3X6RBQJHn3   \n",
       "3262      uns_keyword      uns_location          0                 uns_url   \n",
       "\n",
       "      emoji_count  \n",
       "0               0  \n",
       "1               0  \n",
       "2               0  \n",
       "3               0  \n",
       "4               0  \n",
       "...           ...  \n",
       "3258            0  \n",
       "3259            0  \n",
       "3260            0  \n",
       "3261            0  \n",
       "3262            0  \n",
       "\n",
       "[3263 rows x 7 columns]"
      ]
     },
     "execution_count": 52,
     "metadata": {},
     "output_type": "execute_result"
    }
   ],
   "source": [
    "processed_test"
   ]
  },
  {
   "cell_type": "code",
   "execution_count": null,
   "metadata": {},
   "outputs": [],
   "source": []
  }
 ],
 "metadata": {
  "kernelspec": {
   "display_name": "Python 3",
   "language": "python",
   "name": "python3"
  },
  "language_info": {
   "codemirror_mode": {
    "name": "ipython",
    "version": 3
   },
   "file_extension": ".py",
   "mimetype": "text/x-python",
   "name": "python",
   "nbconvert_exporter": "python",
   "pygments_lexer": "ipython3",
   "version": "3.8.5"
  }
 },
 "nbformat": 4,
 "nbformat_minor": 4
}
