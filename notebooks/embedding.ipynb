{
 "cells": [
  {
   "cell_type": "code",
   "execution_count": 5,
   "metadata": {},
   "outputs": [
    {
     "name": "stdout",
     "output_type": "stream",
     "text": [
      "The autoreload extension is already loaded. To reload it, use:\n",
      "  %reload_ext autoreload\n"
     ]
    }
   ],
   "source": [
    "%load_ext autoreload\n",
    "%autoreload 2\n",
    "import pandas as pd\n",
    "import os\n",
    "import re\n",
    "import shutil\n",
    "# import string\n",
    "# import nltk\n",
    "from sklearn.feature_extraction.text import CountVectorizer, TfidfVectorizer\n",
    "# from nltk.corpus import stopwords\n",
    "# from nltk.tokenize import word_tokenize\n",
    "# from nltk.stem.porter import PorterStemmer\n",
    "# from nltk.stem.snowball import SnowballStemmer\n",
    "# from nltk.stem.wordnet import WordNetLemmatizer\n",
    "# import re\n",
    "import collections\n",
    "import matplotlib.pyplot as plt\n",
    "import numpy as np\n",
    "plt.style.use('ggplot')\n",
    "# import tensorflow as tf\n",
    "# from tensorflow.keras import layers\n",
    "# from tensorflow.keras import layers\n",
    "# from tensorflow.keras import losses\n",
    "# from tensorflow.keras import preprocessing\n",
    "# from sklearn.model_selection import train_test_split\n",
    "# from keras.callbacks import TensorBoard\n",
    "from sklearn.decomposition import TruncatedSVD"
   ]
  },
  {
   "cell_type": "code",
   "execution_count": 6,
   "metadata": {},
   "outputs": [],
   "source": [
    "train_df=pd.read_csv('../data/processed_train.csv')"
   ]
  },
  {
   "cell_type": "code",
   "execution_count": 7,
   "metadata": {},
   "outputs": [],
   "source": [
    "test_df=pd.read_csv('../data/processed_test.csv')"
   ]
  },
  {
   "cell_type": "code",
   "execution_count": 9,
   "metadata": {},
   "outputs": [],
   "source": [
    "from list_to_corpus import *\n",
    "from helper import *\n"
   ]
  },
  {
   "cell_type": "code",
   "execution_count": null,
   "metadata": {},
   "outputs": [],
   "source": [
    "# test_df.info()"
   ]
  },
  {
   "cell_type": "code",
   "execution_count": 10,
   "metadata": {},
   "outputs": [
    {
     "name": "stdout",
     "output_type": "stream",
     "text": [
      "CPU times: user 3.7 ms, sys: 0 ns, total: 3.7 ms\n",
      "Wall time: 18.8 ms\n"
     ]
    }
   ],
   "source": [
    "%%time\n",
    "train_df['text']=train_df.text.fillna('uns_text')\n",
    "test_df['text']=test_df.text.fillna('uns_text')"
   ]
  },
  {
   "cell_type": "code",
   "execution_count": 11,
   "metadata": {},
   "outputs": [
    {
     "data": {
      "text/html": [
       "<div>\n",
       "<style scoped>\n",
       "    .dataframe tbody tr th:only-of-type {\n",
       "        vertical-align: middle;\n",
       "    }\n",
       "\n",
       "    .dataframe tbody tr th {\n",
       "        vertical-align: top;\n",
       "    }\n",
       "\n",
       "    .dataframe thead th {\n",
       "        text-align: right;\n",
       "    }\n",
       "</style>\n",
       "<table border=\"1\" class=\"dataframe\">\n",
       "  <thead>\n",
       "    <tr style=\"text-align: right;\">\n",
       "      <th></th>\n",
       "      <th>id</th>\n",
       "      <th>text</th>\n",
       "      <th>target</th>\n",
       "      <th>modified_keyword</th>\n",
       "      <th>modified_location</th>\n",
       "      <th>url_count</th>\n",
       "      <th>urls</th>\n",
       "      <th>emoji_count</th>\n",
       "    </tr>\n",
       "  </thead>\n",
       "  <tbody>\n",
       "    <tr>\n",
       "      <th>0</th>\n",
       "      <td>1</td>\n",
       "      <td>Our Deeds are the Reason of this #earthquake M...</td>\n",
       "      <td>1</td>\n",
       "      <td>uns_keyword</td>\n",
       "      <td>uns_location</td>\n",
       "      <td>0</td>\n",
       "      <td>uns_url</td>\n",
       "      <td>0</td>\n",
       "    </tr>\n",
       "    <tr>\n",
       "      <th>1</th>\n",
       "      <td>4</td>\n",
       "      <td>Forest fire near La Ronge Sask. Canada</td>\n",
       "      <td>1</td>\n",
       "      <td>uns_keyword</td>\n",
       "      <td>uns_location</td>\n",
       "      <td>0</td>\n",
       "      <td>uns_url</td>\n",
       "      <td>0</td>\n",
       "    </tr>\n",
       "    <tr>\n",
       "      <th>2</th>\n",
       "      <td>5</td>\n",
       "      <td>All residents asked to 'shelter in place' are ...</td>\n",
       "      <td>1</td>\n",
       "      <td>uns_keyword</td>\n",
       "      <td>uns_location</td>\n",
       "      <td>0</td>\n",
       "      <td>uns_url</td>\n",
       "      <td>0</td>\n",
       "    </tr>\n",
       "    <tr>\n",
       "      <th>3</th>\n",
       "      <td>6</td>\n",
       "      <td>13,000 people receive #wildfires evacuation or...</td>\n",
       "      <td>1</td>\n",
       "      <td>uns_keyword</td>\n",
       "      <td>uns_location</td>\n",
       "      <td>0</td>\n",
       "      <td>uns_url</td>\n",
       "      <td>0</td>\n",
       "    </tr>\n",
       "    <tr>\n",
       "      <th>4</th>\n",
       "      <td>7</td>\n",
       "      <td>Just got sent this photo from Ruby #Alaska as ...</td>\n",
       "      <td>1</td>\n",
       "      <td>uns_keyword</td>\n",
       "      <td>uns_location</td>\n",
       "      <td>0</td>\n",
       "      <td>uns_url</td>\n",
       "      <td>0</td>\n",
       "    </tr>\n",
       "  </tbody>\n",
       "</table>\n",
       "</div>"
      ],
      "text/plain": [
       "   id                                               text  target  \\\n",
       "0   1  Our Deeds are the Reason of this #earthquake M...       1   \n",
       "1   4             Forest fire near La Ronge Sask. Canada       1   \n",
       "2   5  All residents asked to 'shelter in place' are ...       1   \n",
       "3   6  13,000 people receive #wildfires evacuation or...       1   \n",
       "4   7  Just got sent this photo from Ruby #Alaska as ...       1   \n",
       "\n",
       "  modified_keyword modified_location  url_count     urls  emoji_count  \n",
       "0      uns_keyword      uns_location          0  uns_url            0  \n",
       "1      uns_keyword      uns_location          0  uns_url            0  \n",
       "2      uns_keyword      uns_location          0  uns_url            0  \n",
       "3      uns_keyword      uns_location          0  uns_url            0  \n",
       "4      uns_keyword      uns_location          0  uns_url            0  "
      ]
     },
     "execution_count": 11,
     "metadata": {},
     "output_type": "execute_result"
    }
   ],
   "source": [
    "train_df.head()"
   ]
  },
  {
   "cell_type": "code",
   "execution_count": 14,
   "metadata": {},
   "outputs": [
    {
     "name": "stdout",
     "output_type": "stream",
     "text": [
      "CPU times: user 19.5 s, sys: 0 ns, total: 19.5 s\n",
      "Wall time: 19.5 s\n"
     ]
    }
   ],
   "source": [
    "%%time\n",
    "train_corpus=list_corpus(train_df['text'])\n",
    "test_corpus=list_corpus(test_df['text'])"
   ]
  },
  {
   "cell_type": "code",
   "execution_count": 15,
   "metadata": {},
   "outputs": [
    {
     "data": {
      "text/plain": [
       "(7613, 3263)"
      ]
     },
     "execution_count": 15,
     "metadata": {},
     "output_type": "execute_result"
    }
   ],
   "source": [
    "len(train_corpus), len(test_corpus)"
   ]
  },
  {
   "cell_type": "code",
   "execution_count": 16,
   "metadata": {},
   "outputs": [],
   "source": [
    "word = [doc.split() for doc in test_corpus]\n",
    "lst = []\n",
    "for item in word:\n",
    "    for i in item:\n",
    "        lst.append(i)"
   ]
  },
  {
   "cell_type": "code",
   "execution_count": 17,
   "metadata": {},
   "outputs": [
    {
     "data": {
      "text/plain": [
       "13235"
      ]
     },
     "execution_count": 17,
     "metadata": {},
     "output_type": "execute_result"
    }
   ],
   "source": [
    "len(collections.Counter(lst))"
   ]
  },
  {
   "cell_type": "code",
   "execution_count": 18,
   "metadata": {},
   "outputs": [],
   "source": [
    "train_target = train_df.pop('target')"
   ]
  },
  {
   "cell_type": "code",
   "execution_count": 19,
   "metadata": {},
   "outputs": [],
   "source": [
    "# train_df"
   ]
  },
  {
   "cell_type": "code",
   "execution_count": 20,
   "metadata": {},
   "outputs": [
    {
     "name": "stdout",
     "output_type": "stream",
     "text": [
      "CPU times: user 388 ms, sys: 1.24 ms, total: 389 ms\n",
      "Wall time: 415 ms\n"
     ]
    }
   ],
   "source": [
    "%%time\n",
    "vectorizer = TfidfVectorizer(max_features=100)\n",
    "train_tf_X = vectorizer.fit_transform(train_corpus)\n",
    "test_tf_X = vectorizer.transform(test_corpus)"
   ]
  },
  {
   "cell_type": "code",
   "execution_count": 21,
   "metadata": {},
   "outputs": [
    {
     "data": {
      "text/plain": [
       "((3263, 100), (7613, 100))"
      ]
     },
     "execution_count": 21,
     "metadata": {},
     "output_type": "execute_result"
    }
   ],
   "source": [
    "test_tf_X.shape, train_tf_X.shape"
   ]
  },
  {
   "cell_type": "markdown",
   "metadata": {},
   "source": [
    "## Embedding Model (only text features)"
   ]
  },
  {
   "cell_type": "code",
   "execution_count": 556,
   "metadata": {},
   "outputs": [
    {
     "name": "stdout",
     "output_type": "stream",
     "text": [
      "Model: \"sequential_25\"\n",
      "_________________________________________________________________\n",
      "Layer (type)                 Output Shape              Param #   \n",
      "=================================================================\n",
      "embedding_29 (Embedding)     (None, None, 128)         51200     \n",
      "_________________________________________________________________\n",
      "global_average_pooling1d_15  (None, 128)               0         \n",
      "_________________________________________________________________\n",
      "dense_27 (Dense)             (None, 1)                 129       \n",
      "=================================================================\n",
      "Total params: 51,329\n",
      "Trainable params: 51,329\n",
      "Non-trainable params: 0\n",
      "_________________________________________________________________\n"
     ]
    }
   ],
   "source": [
    "embedding_dim = 128\n",
    "max_features = 399\n",
    "embedding_model = embedding(embedding_dim, max_features)\n",
    "embedding_model.summary()"
   ]
  },
  {
   "cell_type": "code",
   "execution_count": 487,
   "metadata": {},
   "outputs": [],
   "source": []
  },
  {
   "cell_type": "code",
   "execution_count": 382,
   "metadata": {},
   "outputs": [],
   "source": [
    "# history_dict = history.history\n",
    "# history_dict.keys()"
   ]
  },
  {
   "cell_type": "code",
   "execution_count": 383,
   "metadata": {},
   "outputs": [],
   "source": [
    "# fig, ax = plt.subplots(1,2,figsize=(15,4))\n",
    "\n",
    "# acc = history_dict['binary_accuracy']\n",
    "# val_acc = history_dict['val_binary_accuracy']\n",
    "# loss = history_dict['loss']\n",
    "# val_loss = history_dict['val_loss']\n",
    "\n",
    "# epochs = range(1, len(acc) + 1)\n",
    "\n",
    "# # \"bo\" is for \"blue dot\"\n",
    "# ax[0].plot(epochs, loss, 'bo', label='Training loss')\n",
    "# # b is for \"solid blue line\"\n",
    "# ax[0].plot(epochs, val_loss, 'ro', label='Validation loss')\n",
    "# ax[0].set_title('Training and validation loss (only text features)')\n",
    "# ax[0].set_xlabel('Epochs')\n",
    "# ax[0].set_ylabel('Loss')\n",
    "# ax[0].legend()\n",
    "\n",
    "# # \"bo\" is for \"blue dot\"\n",
    "# ax[1].plot(epochs, acc, 'bo', label='Training accuracy')\n",
    "# # b is for \"solid blue line\"\n",
    "# ax[1].plot(epochs, val_acc, 'ro', label='Validation accuracy')\n",
    "# ax[1].set_title('Training and validation accuracy (only text features)')\n",
    "# ax[1].set_xlabel('Epochs')\n",
    "# ax[1].set_ylabel('Accuracy')\n",
    "# ax[1].legend()\n",
    "\n",
    "# plt.tight_layout()\n"
   ]
  },
  {
   "cell_type": "code",
   "execution_count": 335,
   "metadata": {},
   "outputs": [
    {
     "data": {
      "text/plain": [
       "array([-0.33723179, -0.33720806, -0.33720803], dtype=float32)"
      ]
     },
     "execution_count": 335,
     "metadata": {},
     "output_type": "execute_result"
    }
   ],
   "source": [
    "np.unique(model.predict(test_X))"
   ]
  },
  {
   "cell_type": "markdown",
   "metadata": {},
   "source": [
    "## Embedding model (all features)"
   ]
  },
  {
   "cell_type": "code",
   "execution_count": 22,
   "metadata": {},
   "outputs": [
    {
     "data": {
      "text/html": [
       "<div>\n",
       "<style scoped>\n",
       "    .dataframe tbody tr th:only-of-type {\n",
       "        vertical-align: middle;\n",
       "    }\n",
       "\n",
       "    .dataframe tbody tr th {\n",
       "        vertical-align: top;\n",
       "    }\n",
       "\n",
       "    .dataframe thead th {\n",
       "        text-align: right;\n",
       "    }\n",
       "</style>\n",
       "<table border=\"1\" class=\"dataframe\">\n",
       "  <thead>\n",
       "    <tr style=\"text-align: right;\">\n",
       "      <th></th>\n",
       "      <th>id</th>\n",
       "      <th>text</th>\n",
       "      <th>modified_keyword</th>\n",
       "      <th>modified_location</th>\n",
       "      <th>url_count</th>\n",
       "      <th>urls</th>\n",
       "      <th>emoji_count</th>\n",
       "    </tr>\n",
       "  </thead>\n",
       "  <tbody>\n",
       "    <tr>\n",
       "      <th>0</th>\n",
       "      <td>0</td>\n",
       "      <td>Our Deeds are the Reason of this #earthquake M...</td>\n",
       "      <td>uns_keyword</td>\n",
       "      <td>uns_location</td>\n",
       "      <td>0</td>\n",
       "      <td>uns_url</td>\n",
       "      <td>0</td>\n",
       "    </tr>\n",
       "    <tr>\n",
       "      <th>1</th>\n",
       "      <td>2</td>\n",
       "      <td>Forest fire near La Ronge Sask. Canada</td>\n",
       "      <td>uns_keyword</td>\n",
       "      <td>uns_location</td>\n",
       "      <td>0</td>\n",
       "      <td>uns_url</td>\n",
       "      <td>0</td>\n",
       "    </tr>\n",
       "    <tr>\n",
       "      <th>2</th>\n",
       "      <td>3</td>\n",
       "      <td>All residents asked to 'shelter in place' are ...</td>\n",
       "      <td>uns_keyword</td>\n",
       "      <td>uns_location</td>\n",
       "      <td>0</td>\n",
       "      <td>uns_url</td>\n",
       "      <td>0</td>\n",
       "    </tr>\n",
       "    <tr>\n",
       "      <th>3</th>\n",
       "      <td>9</td>\n",
       "      <td>13,000 people receive #wildfires evacuation or...</td>\n",
       "      <td>uns_keyword</td>\n",
       "      <td>uns_location</td>\n",
       "      <td>0</td>\n",
       "      <td>uns_url</td>\n",
       "      <td>0</td>\n",
       "    </tr>\n",
       "    <tr>\n",
       "      <th>4</th>\n",
       "      <td>11</td>\n",
       "      <td>Just got sent this photo from Ruby #Alaska as ...</td>\n",
       "      <td>uns_keyword</td>\n",
       "      <td>uns_location</td>\n",
       "      <td>0</td>\n",
       "      <td>uns_url</td>\n",
       "      <td>0</td>\n",
       "    </tr>\n",
       "    <tr>\n",
       "      <th>...</th>\n",
       "      <td>...</td>\n",
       "      <td>...</td>\n",
       "      <td>...</td>\n",
       "      <td>...</td>\n",
       "      <td>...</td>\n",
       "      <td>...</td>\n",
       "      <td>...</td>\n",
       "    </tr>\n",
       "    <tr>\n",
       "      <th>3258</th>\n",
       "      <td>10861</td>\n",
       "      <td>Do you feel engulfed with low self-image? Take...</td>\n",
       "      <td>uns_keyword</td>\n",
       "      <td>uns_location</td>\n",
       "      <td>0</td>\n",
       "      <td>uns_url</td>\n",
       "      <td>0</td>\n",
       "    </tr>\n",
       "    <tr>\n",
       "      <th>3259</th>\n",
       "      <td>10865</td>\n",
       "      <td>Man is equally incapable of seeing the nothing...</td>\n",
       "      <td>uns_keyword</td>\n",
       "      <td>uns_location</td>\n",
       "      <td>0</td>\n",
       "      <td>uns_url</td>\n",
       "      <td>0</td>\n",
       "    </tr>\n",
       "    <tr>\n",
       "      <th>3260</th>\n",
       "      <td>10868</td>\n",
       "      <td>Fully Engulfed Garage Fire: Propane Tanks Insi...</td>\n",
       "      <td>uns_keyword</td>\n",
       "      <td>uns_location</td>\n",
       "      <td>1</td>\n",
       "      <td>http://t.co/UtbXLcBIuY</td>\n",
       "      <td>0</td>\n",
       "    </tr>\n",
       "    <tr>\n",
       "      <th>3261</th>\n",
       "      <td>10874</td>\n",
       "      <td>He came to a land which was engulfed in tribal...</td>\n",
       "      <td>uns_keyword</td>\n",
       "      <td>uns_location</td>\n",
       "      <td>1</td>\n",
       "      <td>http://t.co/3X6RBQJHn3</td>\n",
       "      <td>0</td>\n",
       "    </tr>\n",
       "    <tr>\n",
       "      <th>3262</th>\n",
       "      <td>10875</td>\n",
       "      <td>@suelinflower there is no words to describe th...</td>\n",
       "      <td>uns_keyword</td>\n",
       "      <td>uns_location</td>\n",
       "      <td>0</td>\n",
       "      <td>uns_url</td>\n",
       "      <td>0</td>\n",
       "    </tr>\n",
       "  </tbody>\n",
       "</table>\n",
       "<p>3263 rows × 7 columns</p>\n",
       "</div>"
      ],
      "text/plain": [
       "         id                                               text  \\\n",
       "0         0  Our Deeds are the Reason of this #earthquake M...   \n",
       "1         2             Forest fire near La Ronge Sask. Canada   \n",
       "2         3  All residents asked to 'shelter in place' are ...   \n",
       "3         9  13,000 people receive #wildfires evacuation or...   \n",
       "4        11  Just got sent this photo from Ruby #Alaska as ...   \n",
       "...     ...                                                ...   \n",
       "3258  10861  Do you feel engulfed with low self-image? Take...   \n",
       "3259  10865  Man is equally incapable of seeing the nothing...   \n",
       "3260  10868  Fully Engulfed Garage Fire: Propane Tanks Insi...   \n",
       "3261  10874  He came to a land which was engulfed in tribal...   \n",
       "3262  10875  @suelinflower there is no words to describe th...   \n",
       "\n",
       "     modified_keyword modified_location  url_count                    urls  \\\n",
       "0         uns_keyword      uns_location          0                 uns_url   \n",
       "1         uns_keyword      uns_location          0                 uns_url   \n",
       "2         uns_keyword      uns_location          0                 uns_url   \n",
       "3         uns_keyword      uns_location          0                 uns_url   \n",
       "4         uns_keyword      uns_location          0                 uns_url   \n",
       "...               ...               ...        ...                     ...   \n",
       "3258      uns_keyword      uns_location          0                 uns_url   \n",
       "3259      uns_keyword      uns_location          0                 uns_url   \n",
       "3260      uns_keyword      uns_location          1  http://t.co/UtbXLcBIuY   \n",
       "3261      uns_keyword      uns_location          1  http://t.co/3X6RBQJHn3   \n",
       "3262      uns_keyword      uns_location          0                 uns_url   \n",
       "\n",
       "      emoji_count  \n",
       "0               0  \n",
       "1               0  \n",
       "2               0  \n",
       "3               0  \n",
       "4               0  \n",
       "...           ...  \n",
       "3258            0  \n",
       "3259            0  \n",
       "3260            0  \n",
       "3261            0  \n",
       "3262            0  \n",
       "\n",
       "[3263 rows x 7 columns]"
      ]
     },
     "execution_count": 22,
     "metadata": {},
     "output_type": "execute_result"
    }
   ],
   "source": [
    "test_df"
   ]
  },
  {
   "cell_type": "code",
   "execution_count": 23,
   "metadata": {},
   "outputs": [],
   "source": [
    "vectorizer = CountVectorizer(max_features=100, binary=True)\n",
    "train_dummy_keyword = vectorizer.fit_transform(list_corpus(train_df['modified_keyword'])).toarray()\n",
    "test_dummy_keyword = vectorizer.transform(list_corpus(test_df['modified_keyword'])).toarray()"
   ]
  },
  {
   "cell_type": "code",
   "execution_count": 24,
   "metadata": {},
   "outputs": [],
   "source": [
    "vectorizer = CountVectorizer(max_features=100, binary=True)\n",
    "train_dummy_location = vectorizer.fit_transform(list_corpus(train_df['modified_location'])).toarray()\n",
    "test_dummy_location = vectorizer.transform(list_corpus(test_df['modified_location'])).toarray()"
   ]
  },
  {
   "cell_type": "code",
   "execution_count": 25,
   "metadata": {},
   "outputs": [],
   "source": [
    "vectorizer = CountVectorizer(max_features=100, binary=True)\n",
    "train_dummy_urls = vectorizer.fit_transform(list_corpus(train_df['urls'])).toarray()\n",
    "test_dummy_urls = vectorizer.transform(list_corpus(test_df['urls'])).toarray()"
   ]
  },
  {
   "cell_type": "code",
   "execution_count": 26,
   "metadata": {},
   "outputs": [
    {
     "data": {
      "text/plain": [
       "((7613, 100), (3263, 100))"
      ]
     },
     "execution_count": 26,
     "metadata": {},
     "output_type": "execute_result"
    }
   ],
   "source": [
    "train_dummy_keyword.shape, test_dummy_keyword.shape"
   ]
  },
  {
   "cell_type": "code",
   "execution_count": 27,
   "metadata": {},
   "outputs": [],
   "source": [
    "train_X_augmented = np.hstack([train_tf_X.toarray(), train_dummy_location, train_dummy_keyword, train_dummy_urls])"
   ]
  },
  {
   "cell_type": "code",
   "execution_count": 28,
   "metadata": {},
   "outputs": [],
   "source": [
    "test_X_augmented = np.hstack([test_tf_X.toarray(), test_dummy_location, test_dummy_keyword, test_dummy_urls])"
   ]
  },
  {
   "cell_type": "code",
   "execution_count": 29,
   "metadata": {},
   "outputs": [
    {
     "data": {
      "text/plain": [
       "((7613, 400), (3263, 400))"
      ]
     },
     "execution_count": 29,
     "metadata": {},
     "output_type": "execute_result"
    }
   ],
   "source": [
    "train_X_augmented.shape, test_X_augmented.shape"
   ]
  },
  {
   "cell_type": "code",
   "execution_count": 30,
   "metadata": {},
   "outputs": [
    {
     "data": {
      "text/plain": [
       "array([0, 1])"
      ]
     },
     "execution_count": 30,
     "metadata": {},
     "output_type": "execute_result"
    }
   ],
   "source": [
    "np.unique(train_target.values)"
   ]
  },
  {
   "cell_type": "code",
   "execution_count": null,
   "metadata": {},
   "outputs": [],
   "source": [
    "from model import *\n",
    "embedding_dim = 128\n",
    "max_features = 399\n",
    "embedding_model = embedding(embedding_dim, max_features)\n",
    "embedding_model.summary()"
   ]
  },
  {
   "cell_type": "code",
   "execution_count": 565,
   "metadata": {},
   "outputs": [
    {
     "name": "stdout",
     "output_type": "stream",
     "text": [
      "31/31 [==============================] - 109s 4s/step - loss: 0.6808 - ACCURACY: 0.5793 - val_loss: 0.6961 - val_ACCURACY: 0.5345\n"
     ]
    }
   ],
   "source": [
    "tensorboard_callback = tf.keras.callbacks.TensorBoard(log_dir=\"./logs\")\n",
    "history_augmented = embedding_model.fit(train_X_augmented, train_target.values, verbose=1, batch_size = 200, epochs = 1, validation_split=0.2,\n",
    "                   shuffle=True, callbacks=[tensorboard_callback])"
   ]
  },
  {
   "cell_type": "code",
   "execution_count": 324,
   "metadata": {},
   "outputs": [
    {
     "data": {
      "text/plain": [
       "((7613, 15289), (3263, 13536))"
      ]
     },
     "execution_count": 324,
     "metadata": {},
     "output_type": "execute_result"
    }
   ],
   "source": [
    "train_X_augmented.shape, test_X_augmented.shape"
   ]
  },
  {
   "cell_type": "code",
   "execution_count": 566,
   "metadata": {},
   "outputs": [
    {
     "data": {
      "text/plain": [
       "array([-0.34413534, -0.3441353 ], dtype=float32)"
      ]
     },
     "execution_count": 566,
     "metadata": {},
     "output_type": "execute_result"
    }
   ],
   "source": [
    "np.unique(embedding_model.predict(test_X))"
   ]
  },
  {
   "cell_type": "code",
   "execution_count": 562,
   "metadata": {},
   "outputs": [
    {
     "data": {
      "text/html": [
       "<div>\n",
       "<style scoped>\n",
       "    .dataframe tbody tr th:only-of-type {\n",
       "        vertical-align: middle;\n",
       "    }\n",
       "\n",
       "    .dataframe tbody tr th {\n",
       "        vertical-align: top;\n",
       "    }\n",
       "\n",
       "    .dataframe thead th {\n",
       "        text-align: right;\n",
       "    }\n",
       "</style>\n",
       "<table border=\"1\" class=\"dataframe\">\n",
       "  <thead>\n",
       "    <tr style=\"text-align: right;\">\n",
       "      <th></th>\n",
       "      <th>id</th>\n",
       "      <th>text</th>\n",
       "      <th>modified_keyword</th>\n",
       "      <th>modified_location</th>\n",
       "      <th>url_count</th>\n",
       "      <th>urls</th>\n",
       "      <th>emoji_count</th>\n",
       "    </tr>\n",
       "  </thead>\n",
       "  <tbody>\n",
       "    <tr>\n",
       "      <th>0</th>\n",
       "      <td>1</td>\n",
       "      <td>Our Deeds are the Reason of this #earthquake M...</td>\n",
       "      <td>uns_keyword</td>\n",
       "      <td>uns_location</td>\n",
       "      <td>0</td>\n",
       "      <td>uns_url</td>\n",
       "      <td>0</td>\n",
       "    </tr>\n",
       "    <tr>\n",
       "      <th>1</th>\n",
       "      <td>4</td>\n",
       "      <td>Forest fire near La Ronge Sask. Canada</td>\n",
       "      <td>uns_keyword</td>\n",
       "      <td>uns_location</td>\n",
       "      <td>0</td>\n",
       "      <td>uns_url</td>\n",
       "      <td>0</td>\n",
       "    </tr>\n",
       "    <tr>\n",
       "      <th>2</th>\n",
       "      <td>5</td>\n",
       "      <td>All residents asked to 'shelter in place' are ...</td>\n",
       "      <td>uns_keyword</td>\n",
       "      <td>uns_location</td>\n",
       "      <td>0</td>\n",
       "      <td>uns_url</td>\n",
       "      <td>0</td>\n",
       "    </tr>\n",
       "    <tr>\n",
       "      <th>3</th>\n",
       "      <td>6</td>\n",
       "      <td>13,000 people receive #wildfires evacuation or...</td>\n",
       "      <td>uns_keyword</td>\n",
       "      <td>uns_location</td>\n",
       "      <td>0</td>\n",
       "      <td>uns_url</td>\n",
       "      <td>0</td>\n",
       "    </tr>\n",
       "    <tr>\n",
       "      <th>4</th>\n",
       "      <td>7</td>\n",
       "      <td>Just got sent this photo from Ruby #Alaska as ...</td>\n",
       "      <td>uns_keyword</td>\n",
       "      <td>uns_location</td>\n",
       "      <td>0</td>\n",
       "      <td>uns_url</td>\n",
       "      <td>0</td>\n",
       "    </tr>\n",
       "    <tr>\n",
       "      <th>...</th>\n",
       "      <td>...</td>\n",
       "      <td>...</td>\n",
       "      <td>...</td>\n",
       "      <td>...</td>\n",
       "      <td>...</td>\n",
       "      <td>...</td>\n",
       "      <td>...</td>\n",
       "    </tr>\n",
       "    <tr>\n",
       "      <th>7608</th>\n",
       "      <td>10869</td>\n",
       "      <td>Two giant cranes holding a bridge collapse int...</td>\n",
       "      <td>uns_keyword</td>\n",
       "      <td>uns_location</td>\n",
       "      <td>0</td>\n",
       "      <td>uns_url</td>\n",
       "      <td>0</td>\n",
       "    </tr>\n",
       "    <tr>\n",
       "      <th>7609</th>\n",
       "      <td>10870</td>\n",
       "      <td>@aria_ahrary @TheTawniest The out of control w...</td>\n",
       "      <td>uns_keyword</td>\n",
       "      <td>uns_location</td>\n",
       "      <td>0</td>\n",
       "      <td>uns_url</td>\n",
       "      <td>0</td>\n",
       "    </tr>\n",
       "    <tr>\n",
       "      <th>7610</th>\n",
       "      <td>10871</td>\n",
       "      <td>M1.94 [0104 UTC]?5km S of Volcano Hawaii.</td>\n",
       "      <td>uns_keyword</td>\n",
       "      <td>uns_location</td>\n",
       "      <td>1</td>\n",
       "      <td>http//t.co/zDtoyd8EbJ</td>\n",
       "      <td>1</td>\n",
       "    </tr>\n",
       "    <tr>\n",
       "      <th>7611</th>\n",
       "      <td>10872</td>\n",
       "      <td>Police investigating after an e-bike collided ...</td>\n",
       "      <td>uns_keyword</td>\n",
       "      <td>uns_location</td>\n",
       "      <td>0</td>\n",
       "      <td>uns_url</td>\n",
       "      <td>0</td>\n",
       "    </tr>\n",
       "    <tr>\n",
       "      <th>7612</th>\n",
       "      <td>10873</td>\n",
       "      <td>The Latest More Homes Razed by Northern Califo...</td>\n",
       "      <td>uns_keyword</td>\n",
       "      <td>uns_location</td>\n",
       "      <td>1</td>\n",
       "      <td>http//t.co/YmY4rSkQ3d</td>\n",
       "      <td>1</td>\n",
       "    </tr>\n",
       "  </tbody>\n",
       "</table>\n",
       "<p>7613 rows × 7 columns</p>\n",
       "</div>"
      ],
      "text/plain": [
       "         id                                               text  \\\n",
       "0         1  Our Deeds are the Reason of this #earthquake M...   \n",
       "1         4             Forest fire near La Ronge Sask. Canada   \n",
       "2         5  All residents asked to 'shelter in place' are ...   \n",
       "3         6  13,000 people receive #wildfires evacuation or...   \n",
       "4         7  Just got sent this photo from Ruby #Alaska as ...   \n",
       "...     ...                                                ...   \n",
       "7608  10869  Two giant cranes holding a bridge collapse int...   \n",
       "7609  10870  @aria_ahrary @TheTawniest The out of control w...   \n",
       "7610  10871         M1.94 [0104 UTC]?5km S of Volcano Hawaii.    \n",
       "7611  10872  Police investigating after an e-bike collided ...   \n",
       "7612  10873  The Latest More Homes Razed by Northern Califo...   \n",
       "\n",
       "     modified_keyword modified_location  url_count                   urls  \\\n",
       "0         uns_keyword      uns_location          0                uns_url   \n",
       "1         uns_keyword      uns_location          0                uns_url   \n",
       "2         uns_keyword      uns_location          0                uns_url   \n",
       "3         uns_keyword      uns_location          0                uns_url   \n",
       "4         uns_keyword      uns_location          0                uns_url   \n",
       "...               ...               ...        ...                    ...   \n",
       "7608      uns_keyword      uns_location          0                uns_url   \n",
       "7609      uns_keyword      uns_location          0                uns_url   \n",
       "7610      uns_keyword      uns_location          1  http//t.co/zDtoyd8EbJ   \n",
       "7611      uns_keyword      uns_location          0                uns_url   \n",
       "7612      uns_keyword      uns_location          1  http//t.co/YmY4rSkQ3d   \n",
       "\n",
       "      emoji_count  \n",
       "0               0  \n",
       "1               0  \n",
       "2               0  \n",
       "3               0  \n",
       "4               0  \n",
       "...           ...  \n",
       "7608            0  \n",
       "7609            0  \n",
       "7610            1  \n",
       "7611            0  \n",
       "7612            1  \n",
       "\n",
       "[7613 rows x 7 columns]"
      ]
     },
     "execution_count": 562,
     "metadata": {},
     "output_type": "execute_result"
    }
   ],
   "source": [
    "train_df"
   ]
  },
  {
   "cell_type": "markdown",
   "metadata": {},
   "source": [
    "# Naive Bayes"
   ]
  },
  {
   "cell_type": "code",
   "execution_count": 31,
   "metadata": {},
   "outputs": [],
   "source": [
    "from sklearn.naive_bayes import GaussianNB\n",
    "from sklearn.naive_bayes import BernoulliNB\n",
    "from sklearn.model_selection import train_test_split"
   ]
  },
  {
   "cell_type": "code",
   "execution_count": 32,
   "metadata": {},
   "outputs": [],
   "source": [
    "X_train, X_test, y_train, y_test = train_test_split(train_X_augmented, train_target, test_size=0.2, random_state=32)"
   ]
  },
  {
   "cell_type": "code",
   "execution_count": 33,
   "metadata": {},
   "outputs": [],
   "source": [
    "clf = BernoulliNB()"
   ]
  },
  {
   "cell_type": "code",
   "execution_count": 34,
   "metadata": {},
   "outputs": [
    {
     "data": {
      "text/plain": [
       "BernoulliNB()"
      ]
     },
     "execution_count": 34,
     "metadata": {},
     "output_type": "execute_result"
    }
   ],
   "source": [
    "clf.fit(X_train, y_train)"
   ]
  },
  {
   "cell_type": "code",
   "execution_count": 35,
   "metadata": {},
   "outputs": [],
   "source": [
    "y_pred=clf.predict(X_test)"
   ]
  },
  {
   "cell_type": "code",
   "execution_count": 36,
   "metadata": {},
   "outputs": [
    {
     "data": {
      "image/png": "[encoded data removed]",
      "text/plain": [
       "<Figure size 432x288 with 2 Axes>"
      ]
     },
     "metadata": {},
     "output_type": "display_data"
    }
   ],
   "source": [
    "from sklearn.metrics import plot_confusion_matrix\n",
    "plot_confusion_matrix(clf, X_test, y_test, normalize='pred')\n",
    "plt.show()"
   ]
  },
  {
   "cell_type": "code",
   "execution_count": 38,
   "metadata": {},
   "outputs": [],
   "source": [
    "from sklearn.metrics import confusion_matrix\n",
    "from sklearn.metrics import f1_score, precision_score, recall_score\n",
    "tn, fp, fn, tp  = confusion_matrix(y_test, y_pred).ravel()\n",
    "f1_score = f1_score(y_test, y_pred)\n",
    "recall = recall_score(y_test, y_pred)\n",
    "precision = precision_score(y_test, y_pred)"
   ]
  },
  {
   "cell_type": "code",
   "execution_count": 39,
   "metadata": {},
   "outputs": [
    {
     "data": {
      "text/plain": [
       "0.6463104325699746"
      ]
     },
     "execution_count": 39,
     "metadata": {},
     "output_type": "execute_result"
    }
   ],
   "source": [
    "f1_score"
   ]
  },
  {
   "cell_type": "markdown",
   "metadata": {},
   "source": [
    "# SVD"
   ]
  },
  {
   "cell_type": "code",
   "execution_count": 40,
   "metadata": {},
   "outputs": [],
   "source": [
    "tSVD = TruncatedSVD(n_components=3)\n",
    "data_3d = tSVD.fit_transform(train_X_augmented)\n",
    "\n",
    "svd_df = pd.DataFrame()\n",
    "svd_df['svd_one'] = data_3d[:, 0]\n",
    "svd_df['svd_two'] = data_3d[:, 1]\n",
    "svd_df['svd_three'] = data_3d[:, 2]"
   ]
  },
  {
   "cell_type": "code",
   "execution_count": 41,
   "metadata": {},
   "outputs": [
    {
     "data": {
      "text/html": [
       "<div>\n",
       "<style scoped>\n",
       "    .dataframe tbody tr th:only-of-type {\n",
       "        vertical-align: middle;\n",
       "    }\n",
       "\n",
       "    .dataframe tbody tr th {\n",
       "        vertical-align: top;\n",
       "    }\n",
       "\n",
       "    .dataframe thead th {\n",
       "        text-align: right;\n",
       "    }\n",
       "</style>\n",
       "<table border=\"1\" class=\"dataframe\">\n",
       "  <thead>\n",
       "    <tr style=\"text-align: right;\">\n",
       "      <th></th>\n",
       "      <th>svd_one</th>\n",
       "      <th>svd_two</th>\n",
       "      <th>svd_three</th>\n",
       "    </tr>\n",
       "  </thead>\n",
       "  <tbody>\n",
       "    <tr>\n",
       "      <th>0</th>\n",
       "      <td>1.674587</td>\n",
       "      <td>-0.015326</td>\n",
       "      <td>-0.504523</td>\n",
       "    </tr>\n",
       "    <tr>\n",
       "      <th>1</th>\n",
       "      <td>1.679980</td>\n",
       "      <td>-0.011058</td>\n",
       "      <td>-0.499478</td>\n",
       "    </tr>\n",
       "    <tr>\n",
       "      <th>2</th>\n",
       "      <td>1.661888</td>\n",
       "      <td>-0.013600</td>\n",
       "      <td>-0.515454</td>\n",
       "    </tr>\n",
       "    <tr>\n",
       "      <th>3</th>\n",
       "      <td>1.676270</td>\n",
       "      <td>-0.000965</td>\n",
       "      <td>-0.498549</td>\n",
       "    </tr>\n",
       "    <tr>\n",
       "      <th>4</th>\n",
       "      <td>1.673851</td>\n",
       "      <td>-0.017256</td>\n",
       "      <td>-0.511788</td>\n",
       "    </tr>\n",
       "    <tr>\n",
       "      <th>...</th>\n",
       "      <td>...</td>\n",
       "      <td>...</td>\n",
       "      <td>...</td>\n",
       "    </tr>\n",
       "    <tr>\n",
       "      <th>7608</th>\n",
       "      <td>1.672988</td>\n",
       "      <td>-0.008762</td>\n",
       "      <td>-0.504683</td>\n",
       "    </tr>\n",
       "    <tr>\n",
       "      <th>7609</th>\n",
       "      <td>1.678947</td>\n",
       "      <td>-0.005252</td>\n",
       "      <td>-0.497924</td>\n",
       "    </tr>\n",
       "    <tr>\n",
       "      <th>7610</th>\n",
       "      <td>1.183439</td>\n",
       "      <td>1.607964</td>\n",
       "      <td>-0.167650</td>\n",
       "    </tr>\n",
       "    <tr>\n",
       "      <th>7611</th>\n",
       "      <td>1.674787</td>\n",
       "      <td>-0.008737</td>\n",
       "      <td>-0.500753</td>\n",
       "    </tr>\n",
       "    <tr>\n",
       "      <th>7612</th>\n",
       "      <td>1.201884</td>\n",
       "      <td>1.628473</td>\n",
       "      <td>-0.145689</td>\n",
       "    </tr>\n",
       "  </tbody>\n",
       "</table>\n",
       "<p>7613 rows × 3 columns</p>\n",
       "</div>"
      ],
      "text/plain": [
       "       svd_one   svd_two  svd_three\n",
       "0     1.674587 -0.015326  -0.504523\n",
       "1     1.679980 -0.011058  -0.499478\n",
       "2     1.661888 -0.013600  -0.515454\n",
       "3     1.676270 -0.000965  -0.498549\n",
       "4     1.673851 -0.017256  -0.511788\n",
       "...        ...       ...        ...\n",
       "7608  1.672988 -0.008762  -0.504683\n",
       "7609  1.678947 -0.005252  -0.497924\n",
       "7610  1.183439  1.607964  -0.167650\n",
       "7611  1.674787 -0.008737  -0.500753\n",
       "7612  1.201884  1.628473  -0.145689\n",
       "\n",
       "[7613 rows x 3 columns]"
      ]
     },
     "execution_count": 41,
     "metadata": {},
     "output_type": "execute_result"
    }
   ],
   "source": [
    "svd_df"
   ]
  },
  {
   "cell_type": "code",
   "execution_count": 42,
   "metadata": {},
   "outputs": [
    {
     "data": {
      "image/png": "[encoded data removed]",
      "text/plain": [
       "<Figure size 1080x576 with 1 Axes>"
      ]
     },
     "metadata": {},
     "output_type": "display_data"
    }
   ],
   "source": [
    "from matplotlib import cm\n",
    "from mpl_toolkits import mplot3d\n",
    "fig = plt.figure(figsize=(15,8))\n",
    "ax = fig.gca(projection='3d')\n",
    "ax.scatter(svd_df.svd_one, svd_df.svd_two, svd_df.svd_three, cmap=cm.coolwarm, linewidth=0.2)\n",
    "ax.set_xlabel('pc1')\n",
    "ax.set_ylabel('pc2')\n",
    "ax.set_zlabel('pc3')\n",
    "plt.show()"
   ]
  },
  {
   "cell_type": "markdown",
   "metadata": {},
   "source": [
    "## Random Forest"
   ]
  },
  {
   "cell_type": "code",
   "execution_count": 43,
   "metadata": {},
   "outputs": [],
   "source": [
    "from sklearn.model_selection import train_test_split"
   ]
  },
  {
   "cell_type": "code",
   "execution_count": 44,
   "metadata": {},
   "outputs": [],
   "source": [
    "X_train, X_test, y_train, y_test = train_test_split(train_X_augmented, train_target, test_size=0.2, random_state=32)"
   ]
  },
  {
   "cell_type": "code",
   "execution_count": 45,
   "metadata": {},
   "outputs": [
    {
     "name": "stdout",
     "output_type": "stream",
     "text": [
      "CPU times: user 2.95 s, sys: 3.05 ms, total: 2.95 s\n",
      "Wall time: 2.95 s\n"
     ]
    },
    {
     "data": {
      "text/plain": [
       "RandomForestClassifier(max_depth=100, random_state=0)"
      ]
     },
     "execution_count": 45,
     "metadata": {},
     "output_type": "execute_result"
    }
   ],
   "source": [
    "%%time\n",
    "from sklearn.ensemble import RandomForestClassifier\n",
    "clf = RandomForestClassifier(max_depth=100, random_state=0)\n",
    "clf.fit(X_train, y_train)"
   ]
  },
  {
   "cell_type": "code",
   "execution_count": 46,
   "metadata": {},
   "outputs": [],
   "source": [
    "prediction_=clf.predict(X_test)"
   ]
  },
  {
   "cell_type": "code",
   "execution_count": 47,
   "metadata": {},
   "outputs": [],
   "source": [
    "from sklearn.metrics import confusion_matrix\n",
    "from sklearn.metrics import f1_score, precision_score, recall_score\n",
    "tn, fp, fn, tp  = confusion_matrix(y_test, prediction_).ravel()\n",
    "f1_score = f1_score(y_test, prediction_)\n",
    "recall = recall_score(y_test, prediction_)\n",
    "precision = precision_score(y_test, prediction_)"
   ]
  },
  {
   "cell_type": "code",
   "execution_count": 48,
   "metadata": {},
   "outputs": [
    {
     "data": {
      "image/png": "[encoded data removed]",
      "text/plain": [
       "<Figure size 432x288 with 2 Axes>"
      ]
     },
     "metadata": {},
     "output_type": "display_data"
    }
   ],
   "source": [
    "from sklearn.metrics import plot_confusion_matrix\n",
    "plot_confusion_matrix(clf, X_test, y_test, normalize='true')\n",
    "plt.show()"
   ]
  },
  {
   "cell_type": "markdown",
   "metadata": {},
   "source": [
    "# Gradient Boosting"
   ]
  },
  {
   "cell_type": "code",
   "execution_count": 49,
   "metadata": {},
   "outputs": [],
   "source": [
    "from sklearn.ensemble import GradientBoostingClassifier"
   ]
  },
  {
   "cell_type": "code",
   "execution_count": 51,
   "metadata": {},
   "outputs": [
    {
     "name": "stdout",
     "output_type": "stream",
     "text": [
      "CPU times: user 48.4 s, sys: 0 ns, total: 48.4 s\n",
      "Wall time: 48.4 s\n"
     ]
    },
    {
     "data": {
      "text/plain": [
       "GradientBoostingClassifier(learning_rate=0.001, min_samples_leaf=10,\n",
       "                           n_estimators=1000)"
      ]
     },
     "execution_count": 51,
     "metadata": {},
     "output_type": "execute_result"
    }
   ],
   "source": [
    "%%time\n",
    "N_ESTIMATORS = 1000\n",
    "\n",
    "model = GradientBoostingClassifier(learning_rate=0.001, \n",
    "                                   n_estimators=N_ESTIMATORS, \n",
    "                                   min_samples_leaf=10)\n",
    "model.fit(X_train, y_train)"
   ]
  },
  {
   "cell_type": "code",
   "execution_count": 52,
   "metadata": {},
   "outputs": [
    {
     "data": {
      "text/plain": [
       "<matplotlib.legend.Legend at 0x7f9541c17050>"
      ]
     },
     "execution_count": 52,
     "metadata": {},
     "output_type": "execute_result"
    },
    {
     "data": {
      "image/png": "[encoded data removed]",
      "text/plain": [
       "<Figure size 432x288 with 1 Axes>"
      ]
     },
     "metadata": {},
     "output_type": "display_data"
    }
   ],
   "source": [
    "train_score = np.zeros(N_ESTIMATORS)\n",
    "for i, y_pred in enumerate(model.staged_predict(X_train)):\n",
    "    train_score[i] = model.loss_(y_train, y_pred)\n",
    "\n",
    "test_score = np.zeros(N_ESTIMATORS)\n",
    "for i, y_pred in enumerate(model.staged_predict(X_test)):\n",
    "    test_score[i] = model.loss_(y_test, y_pred)\n",
    "    \n",
    "plt.plot(np.arange(N_ESTIMATORS) + 1, train_score,\n",
    "        label=\"Training Error\")\n",
    "plt.plot(np.arange(N_ESTIMATORS) + 1, test_score,\n",
    "        label=\"Testing Error\")\n",
    "plt.title(\"Training and Hold Out Error by Boosting Stages\")\n",
    "plt.xlabel('Number of Boosting Stages', fontsize=14)\n",
    "plt.ylabel('Average Squared Error', fontsize=14)\n",
    "plt.legend(loc=\"upper right\")"
   ]
  },
  {
   "cell_type": "code",
   "execution_count": 53,
   "metadata": {},
   "outputs": [],
   "source": [
    "y_pred=model.predict(X_test)"
   ]
  },
  {
   "cell_type": "code",
   "execution_count": 54,
   "metadata": {},
   "outputs": [
    {
     "data": {
      "image/png": "[encoded data removed]",
      "text/plain": [
       "<Figure size 432x288 with 2 Axes>"
      ]
     },
     "metadata": {},
     "output_type": "display_data"
    }
   ],
   "source": [
    "from sklearn.metrics import plot_confusion_matrix\n",
    "plot_confusion_matrix(model, X_test, y_test, normalize='pred')\n",
    "plt.show()"
   ]
  },
  {
   "cell_type": "code",
   "execution_count": 55,
   "metadata": {},
   "outputs": [],
   "source": [
    "from sklearn.metrics import confusion_matrix\n",
    "from sklearn.metrics import f1_score, precision_score, recall_score\n",
    "tn, fp, fn, tp  = confusion_matrix(y_test, prediction_).ravel()\n",
    "f1_score = f1_score(y_test, y_pred)\n",
    "recall = recall_score(y_test, y_pred)\n",
    "precision = precision_score(y_test, y_pred)"
   ]
  },
  {
   "cell_type": "code",
   "execution_count": 56,
   "metadata": {},
   "outputs": [
    {
     "data": {
      "text/plain": [
       "0.8719512195121951"
      ]
     },
     "execution_count": 56,
     "metadata": {},
     "output_type": "execute_result"
    }
   ],
   "source": [
    "precision"
   ]
  },
  {
   "cell_type": "markdown",
   "metadata": {},
   "source": [
    "# Grid Search"
   ]
  },
  {
   "cell_type": "code",
   "execution_count": 58,
   "metadata": {},
   "outputs": [],
   "source": [
    "from sklearn.ensemble import GradientBoostingClassifier\n",
    "\n",
    "from sklearn.model_selection import GridSearchCV\n",
    "from sklearn.metrics import accuracy_score\n",
    "from sklearn.metrics import precision_score\n",
    "from sklearn.metrics import recall_score\n",
    "from sklearn.metrics import make_scorer\n",
    "#creating Scoring parameter: \n",
    "scoring = {'accuracy': make_scorer(accuracy_score),\n",
    "           'precision': make_scorer(precision_score),'recall':make_scorer(recall_score)}\n"
   ]
  },
  {
   "cell_type": "code",
   "execution_count": 69,
   "metadata": {},
   "outputs": [],
   "source": [
    "from boosting_parameters import *"
   ]
  },
  {
   "cell_type": "code",
   "execution_count": 70,
   "metadata": {},
   "outputs": [],
   "source": [
    "parameters = boosting_parameters()"
   ]
  },
  {
   "cell_type": "code",
   "execution_count": 71,
   "metadata": {},
   "outputs": [
    {
     "ename": "TypeError",
     "evalue": "__init__() got an unexpected keyword argument 'n_iter_no_change'",
     "output_type": "error",
     "traceback": [
      "\u001b[0;31m---------------------------------------------------------------------------\u001b[0m",
      "\u001b[0;31mTypeError\u001b[0m                                 Traceback (most recent call last)",
      "\u001b[0;32m<ipython-input-71-368154e65c7f>\u001b[0m in \u001b[0;36m<module>\u001b[0;34m\u001b[0m\n\u001b[0;32m----> 1\u001b[0;31m \u001b[0mclf\u001b[0m \u001b[0;34m=\u001b[0m \u001b[0mGridSearchCV\u001b[0m\u001b[0;34m(\u001b[0m\u001b[0mGradientBoostingClassifier\u001b[0m\u001b[0;34m(\u001b[0m\u001b[0;34m)\u001b[0m\u001b[0;34m,\u001b[0m \u001b[0mparameters\u001b[0m\u001b[0;34m,\u001b[0m\u001b[0mscoring\u001b[0m\u001b[0;34m=\u001b[0m\u001b[0mscoring\u001b[0m\u001b[0;34m,\u001b[0m\u001b[0mrefit\u001b[0m\u001b[0;34m=\u001b[0m\u001b[0;32mFalse\u001b[0m\u001b[0;34m,\u001b[0m\u001b[0mcv\u001b[0m\u001b[0;34m=\u001b[0m\u001b[0;36m2\u001b[0m\u001b[0;34m,\u001b[0m \u001b[0mn_jobs\u001b[0m\u001b[0;34m=\u001b[0m\u001b[0;34m-\u001b[0m\u001b[0;36m1\u001b[0m\u001b[0;34m,\u001b[0m \u001b[0mn_iter_no_change\u001b[0m\u001b[0;34m=\u001b[0m\u001b[0;36m500\u001b[0m\u001b[0;34m,\u001b[0m \u001b[0mverbose\u001b[0m\u001b[0;34m=\u001b[0m\u001b[0;36m1\u001b[0m\u001b[0;34m)\u001b[0m\u001b[0;34m\u001b[0m\u001b[0;34m\u001b[0m\u001b[0m\n\u001b[0m",
      "\u001b[0;32m~/anaconda3/lib/python3.7/site-packages/sklearn/utils/validation.py\u001b[0m in \u001b[0;36minner_f\u001b[0;34m(*args, **kwargs)\u001b[0m\n\u001b[1;32m     71\u001b[0m                           FutureWarning)\n\u001b[1;32m     72\u001b[0m         \u001b[0mkwargs\u001b[0m\u001b[0;34m.\u001b[0m\u001b[0mupdate\u001b[0m\u001b[0;34m(\u001b[0m\u001b[0;34m{\u001b[0m\u001b[0mk\u001b[0m\u001b[0;34m:\u001b[0m \u001b[0marg\u001b[0m \u001b[0;32mfor\u001b[0m \u001b[0mk\u001b[0m\u001b[0;34m,\u001b[0m \u001b[0marg\u001b[0m \u001b[0;32min\u001b[0m \u001b[0mzip\u001b[0m\u001b[0;34m(\u001b[0m\u001b[0msig\u001b[0m\u001b[0;34m.\u001b[0m\u001b[0mparameters\u001b[0m\u001b[0;34m,\u001b[0m \u001b[0margs\u001b[0m\u001b[0;34m)\u001b[0m\u001b[0;34m}\u001b[0m\u001b[0;34m)\u001b[0m\u001b[0;34m\u001b[0m\u001b[0;34m\u001b[0m\u001b[0m\n\u001b[0;32m---> 73\u001b[0;31m         \u001b[0;32mreturn\u001b[0m \u001b[0mf\u001b[0m\u001b[0;34m(\u001b[0m\u001b[0;34m**\u001b[0m\u001b[0mkwargs\u001b[0m\u001b[0;34m)\u001b[0m\u001b[0;34m\u001b[0m\u001b[0;34m\u001b[0m\u001b[0m\n\u001b[0m\u001b[1;32m     74\u001b[0m     \u001b[0;32mreturn\u001b[0m \u001b[0minner_f\u001b[0m\u001b[0;34m\u001b[0m\u001b[0;34m\u001b[0m\u001b[0m\n\u001b[1;32m     75\u001b[0m \u001b[0;34m\u001b[0m\u001b[0m\n",
      "\u001b[0;31mTypeError\u001b[0m: __init__() got an unexpected keyword argument 'n_iter_no_change'"
     ]
    }
   ],
   "source": [
    "clf = GridSearchCV(GradientBoostingClassifier(), parameters,scoring=scoring,refit=False,cv=2, n_jobs=-1, n_iter_no_change=500, verbose=1)"
   ]
  },
  {
   "cell_type": "code",
   "execution_count": 67,
   "metadata": {},
   "outputs": [
    {
     "data": {
      "text/html": [
       "<div>\n",
       "<style scoped>\n",
       "    .dataframe tbody tr th:only-of-type {\n",
       "        vertical-align: middle;\n",
       "    }\n",
       "\n",
       "    .dataframe tbody tr th {\n",
       "        vertical-align: top;\n",
       "    }\n",
       "\n",
       "    .dataframe thead th {\n",
       "        text-align: right;\n",
       "    }\n",
       "</style>\n",
       "<table border=\"1\" class=\"dataframe\">\n",
       "  <thead>\n",
       "    <tr style=\"text-align: right;\">\n",
       "      <th></th>\n",
       "      <th>split0_test_accuracy</th>\n",
       "      <th>split1_test_accuracy</th>\n",
       "      <th>split0_test_precision</th>\n",
       "      <th>split1_test_precision</th>\n",
       "      <th>split0_test_recall</th>\n",
       "      <th>split1_test_recall</th>\n",
       "    </tr>\n",
       "  </thead>\n",
       "  <tbody>\n",
       "    <tr>\n",
       "      <th>0</th>\n",
       "      <td>0.565189</td>\n",
       "      <td>0.565189</td>\n",
       "      <td>0.0</td>\n",
       "      <td>0.0</td>\n",
       "      <td>0.0</td>\n",
       "      <td>0.0</td>\n",
       "    </tr>\n",
       "    <tr>\n",
       "      <th>1</th>\n",
       "      <td>0.565189</td>\n",
       "      <td>0.565189</td>\n",
       "      <td>0.0</td>\n",
       "      <td>0.0</td>\n",
       "      <td>0.0</td>\n",
       "      <td>0.0</td>\n",
       "    </tr>\n",
       "    <tr>\n",
       "      <th>2</th>\n",
       "      <td>0.565189</td>\n",
       "      <td>0.565189</td>\n",
       "      <td>0.0</td>\n",
       "      <td>0.0</td>\n",
       "      <td>0.0</td>\n",
       "      <td>0.0</td>\n",
       "    </tr>\n",
       "    <tr>\n",
       "      <th>3</th>\n",
       "      <td>0.565189</td>\n",
       "      <td>0.565189</td>\n",
       "      <td>0.0</td>\n",
       "      <td>0.0</td>\n",
       "      <td>0.0</td>\n",
       "      <td>0.0</td>\n",
       "    </tr>\n",
       "    <tr>\n",
       "      <th>4</th>\n",
       "      <td>0.565189</td>\n",
       "      <td>0.565189</td>\n",
       "      <td>0.0</td>\n",
       "      <td>0.0</td>\n",
       "      <td>0.0</td>\n",
       "      <td>0.0</td>\n",
       "    </tr>\n",
       "    <tr>\n",
       "      <th>...</th>\n",
       "      <td>...</td>\n",
       "      <td>...</td>\n",
       "      <td>...</td>\n",
       "      <td>...</td>\n",
       "      <td>...</td>\n",
       "      <td>...</td>\n",
       "    </tr>\n",
       "    <tr>\n",
       "      <th>84667</th>\n",
       "      <td>0.565189</td>\n",
       "      <td>0.565189</td>\n",
       "      <td>0.0</td>\n",
       "      <td>0.0</td>\n",
       "      <td>0.0</td>\n",
       "      <td>0.0</td>\n",
       "    </tr>\n",
       "    <tr>\n",
       "      <th>84668</th>\n",
       "      <td>0.565189</td>\n",
       "      <td>0.565189</td>\n",
       "      <td>0.0</td>\n",
       "      <td>0.0</td>\n",
       "      <td>0.0</td>\n",
       "      <td>0.0</td>\n",
       "    </tr>\n",
       "    <tr>\n",
       "      <th>84669</th>\n",
       "      <td>0.565189</td>\n",
       "      <td>0.565189</td>\n",
       "      <td>0.0</td>\n",
       "      <td>0.0</td>\n",
       "      <td>0.0</td>\n",
       "      <td>0.0</td>\n",
       "    </tr>\n",
       "    <tr>\n",
       "      <th>84670</th>\n",
       "      <td>0.565189</td>\n",
       "      <td>0.565189</td>\n",
       "      <td>0.0</td>\n",
       "      <td>0.0</td>\n",
       "      <td>0.0</td>\n",
       "      <td>0.0</td>\n",
       "    </tr>\n",
       "    <tr>\n",
       "      <th>84671</th>\n",
       "      <td>0.565189</td>\n",
       "      <td>0.565189</td>\n",
       "      <td>0.0</td>\n",
       "      <td>0.0</td>\n",
       "      <td>0.0</td>\n",
       "      <td>0.0</td>\n",
       "    </tr>\n",
       "  </tbody>\n",
       "</table>\n",
       "<p>84672 rows × 6 columns</p>\n",
       "</div>"
      ],
      "text/plain": [
       "       split0_test_accuracy  split1_test_accuracy  split0_test_precision  \\\n",
       "0                  0.565189              0.565189                    0.0   \n",
       "1                  0.565189              0.565189                    0.0   \n",
       "2                  0.565189              0.565189                    0.0   \n",
       "3                  0.565189              0.565189                    0.0   \n",
       "4                  0.565189              0.565189                    0.0   \n",
       "...                     ...                   ...                    ...   \n",
       "84667              0.565189              0.565189                    0.0   \n",
       "84668              0.565189              0.565189                    0.0   \n",
       "84669              0.565189              0.565189                    0.0   \n",
       "84670              0.565189              0.565189                    0.0   \n",
       "84671              0.565189              0.565189                    0.0   \n",
       "\n",
       "       split1_test_precision  split0_test_recall  split1_test_recall  \n",
       "0                        0.0                 0.0                 0.0  \n",
       "1                        0.0                 0.0                 0.0  \n",
       "2                        0.0                 0.0                 0.0  \n",
       "3                        0.0                 0.0                 0.0  \n",
       "4                        0.0                 0.0                 0.0  \n",
       "...                      ...                 ...                 ...  \n",
       "84667                    0.0                 0.0                 0.0  \n",
       "84668                    0.0                 0.0                 0.0  \n",
       "84669                    0.0                 0.0                 0.0  \n",
       "84670                    0.0                 0.0                 0.0  \n",
       "84671                    0.0                 0.0                 0.0  \n",
       "\n",
       "[84672 rows x 6 columns]"
      ]
     },
     "execution_count": 67,
     "metadata": {},
     "output_type": "execute_result"
    }
   ],
   "source": [
    "clf.fit(X_train, y_train)\n",
    "#converting the clf.cv_results to dataframe\n",
    "df=pd.DataFrame.from_dict(clf.cv_results_)\n",
    "#here Possible inputs for cross validation is cv=2, there two split split0 and split1\n",
    "df[['split0_test_accuracy','split1_test_accuracy','split0_test_precision','split1_test_precision','split0_test_recall','split1_test_recall']]"
   ]
  },
  {
   "cell_type": "code",
   "execution_count": null,
   "metadata": {},
   "outputs": [],
   "source": []
  }
 ],
 "metadata": {
  "kernelspec": {
   "display_name": "Python 3",
   "language": "python",
   "name": "python3"
  },
  "language_info": {
   "codemirror_mode": {
    "name": "ipython",
    "version": 3
   },
   "file_extension": ".py",
   "mimetype": "text/x-python",
   "name": "python",
   "nbconvert_exporter": "python",
   "pygments_lexer": "ipython3",
   "version": "3.7.7"
  }
 },
 "nbformat": 4,
 "nbformat_minor": 4
}
